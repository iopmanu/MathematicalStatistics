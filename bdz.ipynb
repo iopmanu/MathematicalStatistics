{
  "nbformat": 4,
  "nbformat_minor": 0,
  "metadata": {
    "colab": {
      "provenance": []
    },
    "kernelspec": {
      "name": "python3",
      "display_name": "Python 3"
    },
    "language_info": {
      "name": "python"
    }
  },
  "cells": [
    {
      "cell_type": "markdown",
      "source": [
        "# БДЗ"
      ],
      "metadata": {
        "id": "46ZvxVnUbJTZ"
      }
    },
    {
      "cell_type": "code",
      "execution_count": 19,
      "metadata": {
        "id": "ATOdbv4yatAG"
      },
      "outputs": [],
      "source": [
        "import numpy as np\n",
        "import math\n",
        "import pandas as pd\n",
        "import seaborn as sns\n",
        "import matplotlib.pyplot as plt\n",
        "\n",
        "from scipy import stats as st\n",
        "from typing import Dict, Tuple, List"
      ]
    },
    {
      "cell_type": "markdown",
      "source": [
        "## Данные"
      ],
      "metadata": {
        "id": "GYjoxwUzbHB8"
      }
    },
    {
      "cell_type": "code",
      "source": [
        "df = pd.read_excel('data_matstat_K5.xls', sheet_name='C - plasma')"
      ],
      "metadata": {
        "id": "R8smIONwbIxu"
      },
      "execution_count": 592,
      "outputs": []
    },
    {
      "cell_type": "markdown",
      "source": [
        "## 1. Описательные статистики\n",
        "### 1.1 Выборочные характеристики"
      ],
      "metadata": {
        "id": "gfK2ohT4cze9"
      }
    },
    {
      "cell_type": "code",
      "source": [
        "df.shape"
      ],
      "metadata": {
        "colab": {
          "base_uri": "https://localhost:8080/"
        },
        "id": "T-dtCu2BbV2d",
        "outputId": "a5870c47-52a3-46f6-9b43-06ab45dedf9e"
      },
      "execution_count": 7,
      "outputs": [
        {
          "output_type": "execute_result",
          "data": {
            "text/plain": [
              "(315, 14)"
            ]
          },
          "metadata": {},
          "execution_count": 7
        }
      ]
    },
    {
      "cell_type": "code",
      "source": [
        "df['C9'].mean(), df['C10'].mean(), df['C11'].mean()"
      ],
      "metadata": {
        "colab": {
          "base_uri": "https://localhost:8080/"
        },
        "id": "og8Nubh_bZPe",
        "outputId": "63cedc6c-755f-40a6-fb35-59de374cfd5b"
      },
      "execution_count": 9,
      "outputs": [
        {
          "output_type": "execute_result",
          "data": {
            "text/plain": [
              "(3.2793650793650793, 242.4606349206349, 2185.6031746031745)"
            ]
          },
          "metadata": {},
          "execution_count": 9
        }
      ]
    },
    {
      "cell_type": "code",
      "source": [
        "df['C9'].var(), df['C10'].var(), df['C11'].var()"
      ],
      "metadata": {
        "colab": {
          "base_uri": "https://localhost:8080/"
        },
        "id": "LVFl-IRabrZo",
        "outputId": "9896b5f3-dec1-4dbf-b4b3-72f4929d5e9c"
      },
      "execution_count": 10,
      "outputs": [
        {
          "output_type": "execute_result",
          "data": {
            "text/plain": [
              "(151.8533626529168, 17421.786152461835, 2172341.552219189)"
            ]
          },
          "metadata": {},
          "execution_count": 10
        }
      ]
    },
    {
      "cell_type": "code",
      "source": [
        "df['C9'].std(), df['C10'].std(), df['C11'].std()"
      ],
      "metadata": {
        "colab": {
          "base_uri": "https://localhost:8080/"
        },
        "id": "tvBbLCB-cRWe",
        "outputId": "747281de-4f66-4f47-b715-02d3c488c785"
      },
      "execution_count": 11,
      "outputs": [
        {
          "output_type": "execute_result",
          "data": {
            "text/plain": [
              "(12.322879641257428, 131.9916139474847, 1473.8865465900653)"
            ]
          },
          "metadata": {},
          "execution_count": 11
        }
      ]
    },
    {
      "cell_type": "code",
      "source": [
        "st.skew(df['C9']), st.skew(df['C10']), st.skew(df['C11'])"
      ],
      "metadata": {
        "colab": {
          "base_uri": "https://localhost:8080/"
        },
        "id": "T1DLqxMPcXg2",
        "outputId": "fd02bee0-2dc6-49b8-f81d-3b106c0483b2"
      },
      "execution_count": 12,
      "outputs": [
        {
          "output_type": "execute_result",
          "data": {
            "text/plain": [
              "(13.757134658078, 1.4729974670843415, 1.6060431535588293)"
            ]
          },
          "metadata": {},
          "execution_count": 12
        }
      ]
    },
    {
      "cell_type": "code",
      "source": [
        "st.kurtosis(df['C9']), st.kurtosis(df['C10']), st.kurtosis(df['C11'])"
      ],
      "metadata": {
        "colab": {
          "base_uri": "https://localhost:8080/"
        },
        "id": "BiVMjd6jcldC",
        "outputId": "a23e0cae-df54-41a5-ebae-d07f6ada2383"
      },
      "execution_count": 14,
      "outputs": [
        {
          "output_type": "execute_result",
          "data": {
            "text/plain": [
              "(217.81506388614636, 3.3396698849351623, 3.3991654155658946)"
            ]
          },
          "metadata": {},
          "execution_count": 14
        }
      ]
    },
    {
      "cell_type": "markdown",
      "source": [
        "## 1.2 Группировка и гистограммы частот"
      ],
      "metadata": {
        "id": "eSHmE7cfe4UY"
      }
    },
    {
      "cell_type": "code",
      "source": [
        "k = math.ceil(1 + math.log2(len(df)))\n",
        "k, (df['C9'].max() - df['C9'].min()) / k"
      ],
      "metadata": {
        "colab": {
          "base_uri": "https://localhost:8080/"
        },
        "id": "zXef71Ybfp2P",
        "outputId": "61108c78-75a4-49eb-f51b-e0adff965875"
      },
      "execution_count": 75,
      "outputs": [
        {
          "output_type": "execute_result",
          "data": {
            "text/plain": [
              "(10, 20.3)"
            ]
          },
          "metadata": {},
          "execution_count": 75
        }
      ]
    },
    {
      "cell_type": "code",
      "source": [
        "pd.cut(df['C9'], bins=k).value_counts(sort=False).values"
      ],
      "metadata": {
        "colab": {
          "base_uri": "https://localhost:8080/"
        },
        "id": "CaeBoewtm1SH",
        "outputId": "f3d686f6-e4f9-4b28-a6d6-7322fe3c3c26"
      },
      "execution_count": 87,
      "outputs": [
        {
          "output_type": "execute_result",
          "data": {
            "text/plain": [
              "array([310,   4,   0,   0,   0,   0,   0,   0,   0,   1])"
            ]
          },
          "metadata": {},
          "execution_count": 87
        }
      ]
    },
    {
      "cell_type": "code",
      "source": [
        "pd.cut(df['C9'], bins=k).value_counts(sort=False, normalize=True)"
      ],
      "metadata": {
        "colab": {
          "base_uri": "https://localhost:8080/"
        },
        "id": "AlOwpj4pmRMW",
        "outputId": "a67bf76a-6101-41e3-e771-6e843f0caeca"
      },
      "execution_count": 91,
      "outputs": [
        {
          "output_type": "execute_result",
          "data": {
            "text/plain": [
              "(-0.203, 20.3]    0.984127\n",
              "(20.3, 40.6]      0.012698\n",
              "(40.6, 60.9]      0.000000\n",
              "(60.9, 81.2]      0.000000\n",
              "(81.2, 101.5]     0.000000\n",
              "(101.5, 121.8]    0.000000\n",
              "(121.8, 142.1]    0.000000\n",
              "(142.1, 162.4]    0.000000\n",
              "(162.4, 182.7]    0.000000\n",
              "(182.7, 203.0]    0.003175\n",
              "Name: C9, dtype: float64"
            ]
          },
          "metadata": {},
          "execution_count": 91
        }
      ]
    },
    {
      "cell_type": "code",
      "source": [
        "pd.cut(df['C9'], bins=k).value_counts(sort=False).cumsum()"
      ],
      "metadata": {
        "colab": {
          "base_uri": "https://localhost:8080/"
        },
        "id": "m-NDizJ2nzbK",
        "outputId": "444cb80c-6969-4632-cdec-923f42d1f73a"
      },
      "execution_count": 90,
      "outputs": [
        {
          "output_type": "execute_result",
          "data": {
            "text/plain": [
              "(-0.203, 20.3]    310\n",
              "(20.3, 40.6]      314\n",
              "(40.6, 60.9]      314\n",
              "(60.9, 81.2]      314\n",
              "(81.2, 101.5]     314\n",
              "(101.5, 121.8]    314\n",
              "(121.8, 142.1]    314\n",
              "(142.1, 162.4]    314\n",
              "(162.4, 182.7]    314\n",
              "(182.7, 203.0]    315\n",
              "Name: C9, dtype: int64"
            ]
          },
          "metadata": {},
          "execution_count": 90
        }
      ]
    },
    {
      "cell_type": "code",
      "source": [
        "pd.cut(df['C9'], bins=k).value_counts(sort=False, normalize=True).cumsum()"
      ],
      "metadata": {
        "colab": {
          "base_uri": "https://localhost:8080/"
        },
        "id": "_DXn_23Un6BL",
        "outputId": "116991c4-6973-498f-cef1-9c5892608038"
      },
      "execution_count": 94,
      "outputs": [
        {
          "output_type": "execute_result",
          "data": {
            "text/plain": [
              "(-0.203, 20.3]    0.984127\n",
              "(20.3, 40.6]      0.996825\n",
              "(40.6, 60.9]      0.996825\n",
              "(60.9, 81.2]      0.996825\n",
              "(81.2, 101.5]     0.996825\n",
              "(101.5, 121.8]    0.996825\n",
              "(121.8, 142.1]    0.996825\n",
              "(142.1, 162.4]    0.996825\n",
              "(162.4, 182.7]    0.996825\n",
              "(182.7, 203.0]    1.000000\n",
              "Name: C9, dtype: float64"
            ]
          },
          "metadata": {},
          "execution_count": 94
        }
      ]
    },
    {
      "cell_type": "code",
      "source": [
        "plt.figure(figsize=(14,7))\n",
        "\n",
        "count, division = np.histogram(df['C9'], bins=k)\n",
        "ar = []\n",
        "for i in range(len(division)-1):\n",
        "  ar.append(((division[i + 1] - division[i]) / 2) + division[i])\n",
        "\n",
        "df['C9'].hist(bins=k, density=False)\n",
        "plt.plot(ar, count)"
      ],
      "metadata": {
        "colab": {
          "base_uri": "https://localhost:8080/",
          "height": 616
        },
        "id": "-9oyu9jrfk-Z",
        "outputId": "b4afb873-4706-40f2-e116-5980b28e0838"
      },
      "execution_count": 68,
      "outputs": [
        {
          "output_type": "execute_result",
          "data": {
            "text/plain": [
              "[<matplotlib.lines.Line2D at 0x796133f74ac0>]"
            ]
          },
          "metadata": {},
          "execution_count": 68
        },
        {
          "output_type": "display_data",
          "data": {
            "text/plain": [
              "<Figure size 1400x700 with 1 Axes>"
            ],
            "image/png": "[encoded data removed]"
          },
          "metadata": {}
        }
      ]
    },
    {
      "cell_type": "code",
      "source": [
        "plt.figure(figsize=(14,7))\n",
        "y = pd.cut(df['C9'], bins=k).value_counts(sort=False, normalize=True).values\n",
        "plt.bar(ar, y, width = 31.4)\n",
        "plt.plot(ar, y, color=\"blue\")"
      ],
      "metadata": {
        "colab": {
          "base_uri": "https://localhost:8080/",
          "height": 616
        },
        "id": "RhkAb-I6f_5m",
        "outputId": "7097cdde-7161-43cc-e195-8f9a06ca6314"
      },
      "execution_count": 69,
      "outputs": [
        {
          "output_type": "execute_result",
          "data": {
            "text/plain": [
              "[<matplotlib.lines.Line2D at 0x796133fb20e0>]"
            ]
          },
          "metadata": {},
          "execution_count": 69
        },
        {
          "output_type": "display_data",
          "data": {
            "text/plain": [
              "<Figure size 1400x700 with 1 Axes>"
            ],
            "image/png": "[encoded data removed]"
          },
          "metadata": {}
        }
      ]
    },
    {
      "cell_type": "code",
      "source": [
        "plt.figure(figsize=(14,7))\n",
        "y1 = pd.cut(df['C9'], bins=k).value_counts(sort=False).cumsum()\n",
        "plt.bar(ar, y1, width = 31.4)\n",
        "plt.plot(ar, y1, color=\"blue\")"
      ],
      "metadata": {
        "colab": {
          "base_uri": "https://localhost:8080/",
          "height": 616
        },
        "id": "Sa26OlXfjfWu",
        "outputId": "42c9fa45-e520-4273-8f0e-455717176e6a"
      },
      "execution_count": 70,
      "outputs": [
        {
          "output_type": "execute_result",
          "data": {
            "text/plain": [
              "[<matplotlib.lines.Line2D at 0x796133e8b250>]"
            ]
          },
          "metadata": {},
          "execution_count": 70
        },
        {
          "output_type": "display_data",
          "data": {
            "text/plain": [
              "<Figure size 1400x700 with 1 Axes>"
            ],
            "image/png": "[encoded data removed]"
          },
          "metadata": {}
        }
      ]
    },
    {
      "cell_type": "code",
      "source": [
        "plt.figure(figsize=(14,7))\n",
        "y2 = pd.cut(df['C9'], bins=k).value_counts(sort=False, normalize = True).values.cumsum()\n",
        "plt.bar(ar, y2, width = 31.4)\n",
        "plt.plot(ar, y2, color=\"blue\")"
      ],
      "metadata": {
        "colab": {
          "base_uri": "https://localhost:8080/",
          "height": 616
        },
        "id": "jPcBs8Jaj8Xr",
        "outputId": "79dca2f0-a36a-468e-c399-8cd3cef7ccc7"
      },
      "execution_count": 72,
      "outputs": [
        {
          "output_type": "execute_result",
          "data": {
            "text/plain": [
              "[<matplotlib.lines.Line2D at 0x796133d44f70>]"
            ]
          },
          "metadata": {},
          "execution_count": 72
        },
        {
          "output_type": "display_data",
          "data": {
            "text/plain": [
              "<Figure size 1400x700 with 1 Axes>"
            ],
            "image/png": "[encoded data removed]"
          },
          "metadata": {}
        }
      ]
    },
    {
      "cell_type": "code",
      "source": [
        "plt.figure(figsize=(14,7))\n",
        "\n",
        "from statsmodels.distributions.empirical_distribution import ECDF\n",
        "\n",
        "ecdf = ECDF(df['C9'])\n",
        "\n",
        "plt.step(ecdf.x, ecdf.y, label='empirical CDF')\n",
        "plt.ylabel('$F(x)$', fontsize=20)\n",
        "plt.xlabel('$x$', fontsize=20);"
      ],
      "metadata": {
        "colab": {
          "base_uri": "https://localhost:8080/",
          "height": 633
        },
        "id": "siyTOU5tk7UX",
        "outputId": "cdf31179-c7cc-4c15-e7ce-d7346412984b"
      },
      "execution_count": 77,
      "outputs": [
        {
          "output_type": "display_data",
          "data": {
            "text/plain": [
              "<Figure size 1400x700 with 1 Axes>"
            ],
            "image/png": "[encoded data removed]"
          },
          "metadata": {}
        }
      ]
    },
    {
      "cell_type": "markdown",
      "source": [
        "## 2. Интервальные оценки"
      ],
      "metadata": {
        "id": "W1amsqtlskl-"
      }
    },
    {
      "cell_type": "markdown",
      "source": [
        "### 2.1 Доверительный интервал матож"
      ],
      "metadata": {
        "id": "BiDD6DD_tYfU"
      }
    },
    {
      "cell_type": "code",
      "source": [
        "# В качестве центральной статистики выберем стандартизованное среднее\n",
        "\n",
        "def get_interval_mu(quantile, n, m, s):\n",
        "  t_rv = st.t(n-1)\n",
        "\n",
        "  a = m - (s * t_rv.ppf(1 - quantile / 2)) / n**(1/2)\n",
        "  b = m + (s * t_rv.ppf(1 - quantile / 2)) / n**(1/2)\n",
        "\n",
        "  return a, b"
      ],
      "metadata": {
        "id": "hd7kATQQszcn"
      },
      "execution_count": 97,
      "outputs": []
    },
    {
      "cell_type": "code",
      "source": [
        "m = df['C9'].mean()\n",
        "s = df['C9'].std()\n",
        "\n",
        "get_interval_mu(0.01, len(df), m, s), get_interval_mu(0.05, len(df), m, s), get_interval_mu(0.1, len(df), m, s)"
      ],
      "metadata": {
        "colab": {
          "base_uri": "https://localhost:8080/"
        },
        "id": "EPD-PtaAuab6",
        "outputId": "55255fe9-9c12-453c-9231-e4816b5ea11d"
      },
      "execution_count": 101,
      "outputs": [
        {
          "output_type": "execute_result",
          "data": {
            "text/plain": [
              "((1.4799926443441702, 5.078737514385988),\n",
              " (1.913265997942944, 4.645464160787214),\n",
              " (2.133938153235494, 4.424792005494664))"
            ]
          },
          "metadata": {},
          "execution_count": 101
        }
      ]
    },
    {
      "cell_type": "markdown",
      "source": [
        "### 2.2 Доверительные интервалы для дисперсии"
      ],
      "metadata": {
        "id": "qaltIpYcu1WR"
      }
    },
    {
      "cell_type": "code",
      "source": [
        "# Доверительный интервал для дисперсии σ2 при неизвестном математическом ожидании m.\n",
        "\n",
        "def get_interval_var(quantile, n, s):\n",
        "  f_rv = st.chi2(n-1)\n",
        "\n",
        "  a = ((n-1) * (s**2)) / f_rv.ppf(1 - quantile / 2)\n",
        "  b = ((n-1) * (s**2)) / f_rv.ppf(quantile / 2)\n",
        "\n",
        "  return a, b"
      ],
      "metadata": {
        "id": "A_8_V1nIu4O9"
      },
      "execution_count": 102,
      "outputs": []
    },
    {
      "cell_type": "code",
      "source": [
        "get_interval_var(0.01, len(df), s), get_interval_var(0.05, len(df), s), get_interval_var(0.1, len(df), s)"
      ],
      "metadata": {
        "colab": {
          "base_uri": "https://localhost:8080/"
        },
        "id": "_UM5-NIGvYMz",
        "outputId": "b3f51f57-c61e-4bda-d718-e29ad4d7a69b"
      },
      "execution_count": 103,
      "outputs": [
        {
          "output_type": "execute_result",
          "data": {
            "text/plain": [
              "((124.7238982161733, 188.3114132158274),\n",
              " (130.64173052675784, 178.71510008215242),\n",
              " (133.81582295524535, 174.0547513098481))"
            ]
          },
          "metadata": {},
          "execution_count": 103
        }
      ]
    },
    {
      "cell_type": "markdown",
      "source": [
        "### 2.3 Доверительный интервал для разности мат. ожиданий"
      ],
      "metadata": {
        "id": "dConlJTdv9td"
      }
    },
    {
      "cell_type": "code",
      "source": [
        "## Доверительный интервал для разности математических ожиданий m1 – m2 при неизвестных равных дисперсиях\n",
        "\n",
        "def get_interval_mean_diff(m1, m2, s1, s2, n1, n2, quantile):\n",
        "  s = (((n1 - 1)*(s1**2) + (n2 - 1)*(s2**2))/(n1 + n2 - 2))**(1/2)\n",
        "  t_rv = st.t(n1 + n2 - 2)\n",
        "\n",
        "  a = (m1 - m2) - t_rv.ppf(1 - quantile / 2) * s * (((1/n1) + (1/n2))**(1/2))\n",
        "  b = (m1 - m2) + t_rv.ppf(1 - quantile / 2) * s * (((1/n1) + (1/n2))**(1/2))\n",
        "\n",
        "  return a, b"
      ],
      "metadata": {
        "id": "YVbi1f2QwizI"
      },
      "execution_count": 118,
      "outputs": []
    },
    {
      "cell_type": "code",
      "source": [
        "get_interval_mean_diff(df['C11'].mean(), df['C12'].mean(), df['C11'].std(), df['C12'].std(), len(df), len(df), 0.01), \\\n",
        "get_interval_mean_diff(df['C11'].mean(), df['C12'].mean(), df['C11'].std(), df['C12'].std(), len(df), len(df), 0.05), \\\n",
        "get_interval_mean_diff(df['C11'].mean(), df['C12'].mean(), df['C11'].std(), df['C12'].std(), len(df), len(df), 0.1)"
      ],
      "metadata": {
        "colab": {
          "base_uri": "https://localhost:8080/"
        },
        "id": "xna2jFFJwydd",
        "outputId": "e3a31a27-c164-4854-f6ff-d8e6cfe6df86"
      },
      "execution_count": 110,
      "outputs": [
        {
          "output_type": "execute_result",
          "data": {
            "text/plain": [
              "((1121.8156646706677, 1583.9621131071096),\n",
              " (1177.2597016430059, 1528.5180761347715),\n",
              " (1205.56296603485, 1500.2148117429274))"
            ]
          },
          "metadata": {},
          "execution_count": 110
        }
      ]
    },
    {
      "cell_type": "code",
      "source": [
        "# Доверительный интервал для отношения дисперсий  при неизвестных математических ожиданиях m1 и m2.\n",
        "\n",
        "def get_interval_var_rel(quantile, s1, s2, n1, n2):\n",
        "  fh_rv = st.f(n2-1,n1-1)\n",
        "\n",
        "  a = ((s1**2) * fh_rv.ppf(quantile / 2))/ (s2**2)\n",
        "  b = ((s1**2) * fh_rv.ppf(1 - quantile / 2))/ (s2**2)\n",
        "\n",
        "  return a, b"
      ],
      "metadata": {
        "id": "m8c3GLa7xGtn"
      },
      "execution_count": 119,
      "outputs": []
    },
    {
      "cell_type": "code",
      "source": [
        "get_interval_var_rel(0.01, df['C11'].std(), df['C12'].std(), len(df), len(df)), \\\n",
        "get_interval_var_rel(0.05, df['C11'].std(), df['C12'].std(), len(df), len(df)), \\\n",
        "get_interval_var_rel(0.1, df['C11'].std(), df['C12'].std(), len(df), len(df))"
      ],
      "metadata": {
        "colab": {
          "base_uri": "https://localhost:8080/"
        },
        "id": "XtACGzp7xs5Q",
        "outputId": "78e34a41-7549-405f-b5ec-d5028801b2d7"
      },
      "execution_count": 116,
      "outputs": [
        {
          "output_type": "execute_result",
          "data": {
            "text/plain": [
              "((4.673990312398299, 8.372496671389161),\n",
              " (5.012156001879106, 7.807611797794924),\n",
              " (5.194250362736095, 7.53390106364578))"
            ]
          },
          "metadata": {},
          "execution_count": 116
        }
      ]
    },
    {
      "cell_type": "markdown",
      "source": [
        "## 3. Проверка статистических гипотез о математических ожиданиях и дисперсиях"
      ],
      "metadata": {
        "id": "cy5bi-bqyjcz"
      }
    },
    {
      "cell_type": "code",
      "source": [
        "n = len(df)"
      ],
      "metadata": {
        "id": "OIa-80Yk2xel"
      },
      "execution_count": 129,
      "outputs": []
    },
    {
      "cell_type": "markdown",
      "source": [
        "### 3.1. Проверка статистических гипотез о математических ожиданиях"
      ],
      "metadata": {
        "id": "zLiN-6iWy9tt"
      }
    },
    {
      "cell_type": "code",
      "source": [
        "df['C9'].mean()"
      ],
      "metadata": {
        "colab": {
          "base_uri": "https://localhost:8080/"
        },
        "id": "mVs_trv40RYC",
        "outputId": "8194c5fa-fc99-4412-deb1-5d842f90d2a6"
      },
      "execution_count": 120,
      "outputs": [
        {
          "output_type": "execute_result",
          "data": {
            "text/plain": [
              "3.2793650793650793"
            ]
          },
          "metadata": {},
          "execution_count": 120
        }
      ]
    },
    {
      "cell_type": "code",
      "source": [
        "# Гипотеза о значении математического ожидания при неизвестной дисперсии\n",
        "\n",
        "check_means = [3.0, 4.0, 20.0]\n",
        "\n",
        "for check_mean in check_means:\n",
        "  print(\"T-test : The z-statistic is %.3f and the p-value is %.3f.\" % st.ttest_1samp(df['C9'], check_mean))"
      ],
      "metadata": {
        "colab": {
          "base_uri": "https://localhost:8080/"
        },
        "id": "bsbt0169ynbY",
        "outputId": "8250edf5-2771-44d7-aea4-b628bde3e0bd"
      },
      "execution_count": 121,
      "outputs": [
        {
          "output_type": "stream",
          "name": "stdout",
          "text": [
            "T-test : The z-statistic is 0.402 and the p-value is 0.688.\n",
            "T-test : The z-statistic is -1.038 and the p-value is 0.300.\n",
            "T-test : The z-statistic is -24.082 and the p-value is 0.000.\n"
          ]
        }
      ]
    },
    {
      "cell_type": "markdown",
      "source": [
        "## 3.2. Проверка статистических гипотез о дисперсиях"
      ],
      "metadata": {
        "id": "0k1HvWwq2Fz1"
      }
    },
    {
      "cell_type": "code",
      "source": [
        "df['C9'].std()"
      ],
      "metadata": {
        "colab": {
          "base_uri": "https://localhost:8080/"
        },
        "id": "9WXC5at60j-5",
        "outputId": "3ea5b607-3480-422f-a6c2-6c817186a57c"
      },
      "execution_count": 134,
      "outputs": [
        {
          "output_type": "execute_result",
          "data": {
            "text/plain": [
              "12.322879641257428"
            ]
          },
          "metadata": {},
          "execution_count": 134
        }
      ]
    },
    {
      "cell_type": "code",
      "source": [
        "check_vars = [12.1, 0.25, 4000]"
      ],
      "metadata": {
        "id": "QG298f6_2NOE"
      },
      "execution_count": 149,
      "outputs": []
    },
    {
      "cell_type": "code",
      "source": [
        "for sigma0 in check_vars:\n",
        "    z = df['C9'].var() * (n-1) / sigma0**(2)\n",
        "    p_value = 2*min([st.chi2.cdf(z, n - 1), 1 - st.chi2.cdf(z, n - 1)])\n",
        "    print(\" chi2-test : The z-statistic is %.3f and the p-value is %.3f.\" % (z,  p_value))"
      ],
      "metadata": {
        "colab": {
          "base_uri": "https://localhost:8080/"
        },
        "id": "wVEbr8I42Ses",
        "outputId": "2d535608-a04b-4444-adc7-1ee972fd1611"
      },
      "execution_count": 150,
      "outputs": [
        {
          "output_type": "stream",
          "name": "stdout",
          "text": [
            " chi2-test : The z-statistic is 325.674 and the p-value is 0.626.\n",
            " chi2-test : The z-statistic is 762911.294 and the p-value is 0.000.\n",
            " chi2-test : The z-statistic is 0.003 and the p-value is 0.000.\n"
          ]
        }
      ]
    },
    {
      "cell_type": "markdown",
      "source": [
        "## 3.3 Проверка статистических гипотез о равенстве математических ожиданий"
      ],
      "metadata": {
        "id": "W9Wb2JhB4Tbm"
      }
    },
    {
      "cell_type": "code",
      "source": [
        "df['C11'].mean(), df['C12'].mean()"
      ],
      "metadata": {
        "colab": {
          "base_uri": "https://localhost:8080/"
        },
        "id": "CLVhopT94pjD",
        "outputId": "d6eee262-b2f3-4264-f753-1c24d81c6325"
      },
      "execution_count": 153,
      "outputs": [
        {
          "output_type": "execute_result",
          "data": {
            "text/plain": [
              "(2185.6031746031745, 832.7142857142857)"
            ]
          },
          "metadata": {},
          "execution_count": 153
        }
      ]
    },
    {
      "cell_type": "code",
      "source": [
        "st.ttest_ind(df['C11'], df['C12'])"
      ],
      "metadata": {
        "colab": {
          "base_uri": "https://localhost:8080/"
        },
        "id": "7E-a8f5P4b5W",
        "outputId": "4e23addd-7d4f-4d79-ac87-29b1cb13f47f"
      },
      "execution_count": 152,
      "outputs": [
        {
          "output_type": "execute_result",
          "data": {
            "text/plain": [
              "TtestResult(statistic=15.126948860992421, pvalue=2.623470248258301e-44, df=628.0)"
            ]
          },
          "metadata": {},
          "execution_count": 152
        }
      ]
    },
    {
      "cell_type": "markdown",
      "source": [
        "## 3.4. Проверка статистических гипотез о равенстве дисперсий"
      ],
      "metadata": {
        "id": "QDlOKveb45tD"
      }
    },
    {
      "cell_type": "code",
      "source": [
        "df['C11'].var(),  df['C12'].var()"
      ],
      "metadata": {
        "colab": {
          "base_uri": "https://localhost:8080/"
        },
        "id": "4A0EYAyg5NWN",
        "outputId": "b10fb04b-1b98-4cd1-edd1-bf39b32f0756"
      },
      "execution_count": 155,
      "outputs": [
        {
          "output_type": "execute_result",
          "data": {
            "text/plain": [
              "(2172341.552219189, 347261.5614194723)"
            ]
          },
          "metadata": {},
          "execution_count": 155
        }
      ]
    },
    {
      "cell_type": "code",
      "source": [
        "z = df['C11'].var() / df['C12'].var()\n",
        "z, 2*min([st.f.cdf(z, n -1 , n-1), 1 - st.f.cdf(z, n-1, n-1)])"
      ],
      "metadata": {
        "colab": {
          "base_uri": "https://localhost:8080/"
        },
        "id": "39dxbnjI48R_",
        "outputId": "714e0937-dcb8-47ba-852d-d7fcc296bab4"
      },
      "execution_count": 154,
      "outputs": [
        {
          "output_type": "execute_result",
          "data": {
            "text/plain": [
              "(6.255634926421135, 2.220446049250313e-16)"
            ]
          },
          "metadata": {},
          "execution_count": 154
        }
      ]
    },
    {
      "cell_type": "markdown",
      "source": [
        "## 4. Критерии согласия"
      ],
      "metadata": {
        "id": "I4M2T7Vr9YeJ"
      }
    },
    {
      "cell_type": "markdown",
      "source": [
        "### 4.1. Критерий хи-квадрат"
      ],
      "metadata": {
        "id": "sWjGJjFEKieh"
      }
    },
    {
      "cell_type": "code",
      "source": [
        "sample = df['C9']"
      ],
      "metadata": {
        "id": "39v2M_7_-lRC"
      },
      "execution_count": 156,
      "outputs": []
    },
    {
      "cell_type": "code",
      "source": [
        "q3, q1 = np.percentile (df['C9'], [75 ,25])\n",
        "iqr = q3 - q1\n",
        "k = int(np.ceil(2 * iqr * df['C9'].std()))\n",
        "\n",
        "h = (max(sample) - min(sample)) / k\n",
        "k, h"
      ],
      "metadata": {
        "colab": {
          "base_uri": "https://localhost:8080/"
        },
        "id": "SU74XGob5JG9",
        "outputId": "18ab21fe-f667-4a23-c99c-88c96b110ad8"
      },
      "execution_count": 238,
      "outputs": [
        {
          "output_type": "execute_result",
          "data": {
            "text/plain": [
              "(79, 2.569620253164557)"
            ]
          },
          "metadata": {},
          "execution_count": 238
        }
      ]
    },
    {
      "cell_type": "code",
      "source": [
        "frequencies = plt.hist(sample, bins=k)[0]\n",
        "\n",
        "frequencies_relative = []\n",
        "for frequence in frequencies:\n",
        "  frequencies_relative.append(frequence / n)\n",
        "\n",
        "values = plt.hist(sample, bins=k)[1]"
      ],
      "metadata": {
        "colab": {
          "base_uri": "https://localhost:8080/",
          "height": 430
        },
        "id": "TUznNL54-oGJ",
        "outputId": "fafb8274-75b5-44b9-982b-a95e140abbf5"
      },
      "execution_count": 239,
      "outputs": [
        {
          "output_type": "display_data",
          "data": {
            "text/plain": [
              "<Figure size 640x480 with 1 Axes>"
            ],
            "image/png": "[encoded data removed]"
          },
          "metadata": {}
        }
      ]
    },
    {
      "cell_type": "code",
      "source": [
        "class BinWorker:\n",
        "    def __init__(self, n: int):\n",
        "        self.n = n\n",
        "\n",
        "\n",
        "    @staticmethod\n",
        "    def bin_mean(a: np.array) -> np.array:\n",
        "        means = np.zeros(a.shape[0] - 1)\n",
        "\n",
        "        for i in range(means.shape[0]):\n",
        "            means[i] = (a[i] + a[i+1]) / 2\n",
        "        return means\n",
        "\n",
        "    def calc_mean(self, values: np.array, freqs: np.array) -> np.array:\n",
        "        return np.sum(self.bin_mean(values) * freqs) / self.n\n",
        "\n",
        "    def calc_sigma(self, values: np.array, freqs: np.array) -> np.array:\n",
        "        return (np.sum(pow((self.bin_mean(values) - self.calc_mean(values, freqs)), 2) * freqs) / self.n) ** (1/2)\n",
        "\n",
        "    @staticmethod\n",
        "    def freqs_to_probs(distribution, bins: np.array) -> np.array:\n",
        "        probs = []\n",
        "        for i in range(len(bins) - 1):\n",
        "            probs.append(distribution.cdf(bins[i + 1]) - distribution.cdf(bins[i]))\n",
        "\n",
        "        return np.array(probs)\n",
        "\n",
        "    def get_np(self, nums: np.array, bins: np.array, distribution):\n",
        "      nums, bins = nums.copy(), bins.copy()\n",
        "      n = sum(nums)\n",
        "      probs = list(self.freqs_to_probs(distribution, bins))\n",
        "      i = 0\n",
        "\n",
        "      while i < len(nums):\n",
        "          p = probs[i]\n",
        "          if p * n < 5 and i < len(probs)-1:\n",
        "              nums[i:i+2] = [nums[i] + nums[i+1]]\n",
        "              bins[i:i+2] = [bins[i]]\n",
        "              probs[i:i+2] = [probs[i] + probs[i+1]]\n",
        "              i-=1\n",
        "          elif p * n < 5 and i == len(probs)-1:\n",
        "            nums[i-1:i+1] = [nums[i-1] + nums[i]]\n",
        "            bins[i-1:i+1] = [bins[i-1]]\n",
        "            probs[i-1:i+1] = [probs[i-1] + probs[i]]\n",
        "            i-=1\n",
        "\n",
        "          i+=1\n",
        "\n",
        "      return nums, probs, bins\n",
        "\n",
        "    def calc_chi_squared(self, n: np.array, p: np.array, params_quantity: int) -> Tuple[float, float]:\n",
        "        z = sum(pow((n - self.n * p), 2) / (self.n * p))\n",
        "        f = st.chi2.cdf(z, len(n) - params_quantity - 1)\n",
        "        p_value = 2 * min(f, 1 - f)\n",
        "\n",
        "        return z, p_value if not np.isnan(p_value) else 0.0"
      ],
      "metadata": {
        "id": "XnTzr_ufAcQz"
      },
      "execution_count": 240,
      "outputs": []
    },
    {
      "cell_type": "code",
      "source": [
        "mean, std = df['C9'].mean(), df['C9'].std()\n",
        "worker = BinWorker(len(df))\n",
        "new_f, new_p, new_v = worker.get_np(frequencies.tolist(), values.tolist(), st.expon())"
      ],
      "metadata": {
        "id": "Z71R48TsBFWK"
      },
      "execution_count": 241,
      "outputs": []
    },
    {
      "cell_type": "code",
      "source": [
        "new_f, new_v"
      ],
      "metadata": {
        "colab": {
          "base_uri": "https://localhost:8080/"
        },
        "id": "30LskbtVGbjV",
        "outputId": "1cff27c7-57fe-4b10-d7a6-da70d868094c"
      },
      "execution_count": 242,
      "outputs": [
        {
          "output_type": "execute_result",
          "data": {
            "text/plain": [
              "([227.0, 88.0], [0.0, 2.569620253164557, 203.0])"
            ]
          },
          "metadata": {},
          "execution_count": 242
        }
      ]
    },
    {
      "cell_type": "code",
      "source": [
        "## Вероятность попадания в интервал при условии выполнения гипотезы H0\n",
        "new_p"
      ],
      "metadata": {
        "colab": {
          "base_uri": "https://localhost:8080/"
        },
        "id": "OoNTm_NnE3LH",
        "outputId": "23c4b4c8-0035-4c18-987b-150c8403479e"
      },
      "execution_count": 243,
      "outputs": [
        {
          "output_type": "execute_result",
          "data": {
            "text/plain": [
              "[0.9234353849257103, 0.07656461507428969]"
            ]
          },
          "metadata": {},
          "execution_count": 243
        }
      ]
    },
    {
      "cell_type": "code",
      "source": [
        "x = np.linspace(1, 5, 25)\n",
        "expon = st.expon()\n",
        "pdf = expon.pdf(x)\n",
        "\n",
        "# плотность\n",
        "plt.plot(x, pdf, lw=3)\n",
        "\n",
        "plt.hist(sample, bins=k, density=True);"
      ],
      "metadata": {
        "colab": {
          "base_uri": "https://localhost:8080/",
          "height": 430
        },
        "id": "dfuDn_YDFqLO",
        "outputId": "930e696c-77c2-4982-fb55-c3082b4165c4"
      },
      "execution_count": 244,
      "outputs": [
        {
          "output_type": "display_data",
          "data": {
            "text/plain": [
              "<Figure size 640x480 with 1 Axes>"
            ],
            "image/png": "[encoded data removed]"
          },
          "metadata": {}
        }
      ]
    },
    {
      "cell_type": "code",
      "source": [
        "z, p = worker.calc_chi_squared(np.array(new_f), np.array(new_p), 1)\n",
        "(f\"Bins: Z: {z}; p: {p}\")"
      ],
      "metadata": {
        "colab": {
          "base_uri": "https://localhost:8080/",
          "height": 35
        },
        "id": "UmI9uLu1GNIu",
        "outputId": "c4fc581c-d851-4014-96df-c2f7779be673"
      },
      "execution_count": 247,
      "outputs": [
        {
          "output_type": "execute_result",
          "data": {
            "text/plain": [
              "'Bins: Z: 183.23727645574317; p: 0.0'"
            ],
            "application/vnd.google.colaboratory.intrinsic+json": {
              "type": "string"
            }
          },
          "metadata": {},
          "execution_count": 247
        }
      ]
    },
    {
      "cell_type": "markdown",
      "source": [
        "### 4.2. Проверка гипотезы о нормальности на основе коэффициента асимметрии и эксцесса (критерий Харке-Бера)"
      ],
      "metadata": {
        "id": "IemeDAy8KpP1"
      }
    },
    {
      "cell_type": "code",
      "source": [
        "st.jarque_bera(sample)"
      ],
      "metadata": {
        "colab": {
          "base_uri": "https://localhost:8080/"
        },
        "id": "DJNkAvrFKgmP",
        "outputId": "e89bc914-ced7-461d-98e8-2016ed1e6d07"
      },
      "execution_count": 250,
      "outputs": [
        {
          "output_type": "execute_result",
          "data": {
            "text/plain": [
              "SignificanceResult(statistic=632630.7365664298, pvalue=0.0)"
            ]
          },
          "metadata": {},
          "execution_count": 250
        }
      ]
    },
    {
      "cell_type": "markdown",
      "source": [
        "## 5. Проверка однородности выборок"
      ],
      "metadata": {
        "id": "EF48YLMxMVcw"
      }
    },
    {
      "cell_type": "code",
      "source": [
        "x, y = df['C11'], df['C12']"
      ],
      "metadata": {
        "id": "EU52mFPWMX0a"
      },
      "execution_count": 322,
      "outputs": []
    },
    {
      "cell_type": "markdown",
      "source": [
        "### 5.1 Критерий знаков"
      ],
      "metadata": {
        "id": "2ccgV04tR1Hx"
      }
    },
    {
      "cell_type": "code",
      "source": [
        "sign = st.wilcoxon(x, y)\n",
        "'Sign test: z = {z:.3f}, p-value = {p_value:.3f}'.format(z=sign[0], p_value=sign[1])"
      ],
      "metadata": {
        "colab": {
          "base_uri": "https://localhost:8080/",
          "height": 35
        },
        "id": "HDU9kLvUR0eD",
        "outputId": "8a9ca6bf-6e90-4178-8b26-e5bad6af94a4"
      },
      "execution_count": 288,
      "outputs": [
        {
          "output_type": "execute_result",
          "data": {
            "text/plain": [
              "'Sign test: z = 2424.000, p-value = 0.000'"
            ],
            "application/vnd.google.colaboratory.intrinsic+json": {
              "type": "string"
            }
          },
          "metadata": {},
          "execution_count": 288
        }
      ]
    },
    {
      "cell_type": "code",
      "source": [
        "k = math.ceil(1 + math.log2(len(df)))\n",
        "h = (max(sample) - min(sample)) / k"
      ],
      "metadata": {
        "id": "mQ2m7tiiOAEF"
      },
      "execution_count": 266,
      "outputs": []
    },
    {
      "cell_type": "markdown",
      "source": [
        "### 5.2. Критерий хи-квадрат"
      ],
      "metadata": {
        "id": "z-Q370zpcL4E"
      }
    },
    {
      "cell_type": "code",
      "source": [
        "freqs_x, values_x = np.histogram(df['C11'], bins=k)\n",
        "freqs_y, values_y = np.histogram(df['C12'], bins=k)"
      ],
      "metadata": {
        "id": "ydvGxqHNOgeb"
      },
      "execution_count": 272,
      "outputs": []
    },
    {
      "cell_type": "code",
      "source": [
        "freqs_x, freqs_y"
      ],
      "metadata": {
        "colab": {
          "base_uri": "https://localhost:8080/"
        },
        "id": "lVnG-XM0Pzww",
        "outputId": "a8e8722e-2785-474f-b7a1-7fb6ce2177e2"
      },
      "execution_count": 274,
      "outputs": [
        {
          "output_type": "execute_result",
          "data": {
            "text/plain": [
              "(array([83, 94, 70, 36, 14,  7,  5,  4,  1,  1]),\n",
              " array([159, 124,  24,   5,   1,   1,   0,   0,   0,   1]))"
            ]
          },
          "metadata": {},
          "execution_count": 274
        }
      ]
    },
    {
      "cell_type": "code",
      "source": [
        "st.chi2_contingency([[83, 94, 70, 78], [159, 124,24, 8]])"
      ],
      "metadata": {
        "colab": {
          "base_uri": "https://localhost:8080/"
        },
        "id": "NeErhvQrQJuG",
        "outputId": "c89b8dae-6d05-433b-a7c2-da8305e3fa86"
      },
      "execution_count": 283,
      "outputs": [
        {
          "output_type": "execute_result",
          "data": {
            "text/plain": [
              "Chi2ContingencyResult(statistic=107.3535508089231, pvalue=4.072033090369331e-23, dof=3, expected_freq=array([[122.890625, 110.703125,  47.734375,  43.671875],\n",
              "       [119.109375, 107.296875,  46.265625,  42.328125]]))"
            ]
          },
          "metadata": {},
          "execution_count": 283
        }
      ]
    },
    {
      "cell_type": "code",
      "source": [
        "x = np.append(x, y.max())"
      ],
      "metadata": {
        "id": "Xr2UD7lWXLA-"
      },
      "execution_count": 325,
      "outputs": []
    },
    {
      "cell_type": "code",
      "source": [
        "x, y = np.append(x, [y.max(), y.min()]), np.append(y, [x.min(), x.max()])\n",
        "\n",
        "result = plt.hist(x,  bins=k, density=False, alpha=0.6, label='Гистограмма частот')\n",
        "frequencies_x = result[0]\n",
        "values_x = result[1]\n",
        "result = plt.hist(y,  bins=k, density=False, alpha=0.6, label='Гистограмма частот')\n",
        "frequencies_y = result[0]\n",
        "values_y = result[1]\n",
        "\n",
        "\n",
        "print(frequencies_x)\n",
        "print(frequencies_y)\n",
        "print(np.round((np.array(frequencies_x) / n).tolist(), 2))\n",
        "print(np.round((np.array(frequencies_y) / n).tolist(), 2))\n",
        "print(values_x)\n",
        "print(values_y)"
      ],
      "metadata": {
        "colab": {
          "base_uri": "https://localhost:8080/",
          "height": 566
        },
        "id": "HPq8Icf9UN-u",
        "outputId": "f40bea11-0bfa-47b0-cd71-303b46b05a6a"
      },
      "execution_count": 392,
      "outputs": [
        {
          "output_type": "stream",
          "name": "stdout",
          "text": [
            "[ 59. 111.  79.  34.  15.   8.   6.   7.   1.   3.]\n",
            "[235.  76.   5.   1.   1.   0.   0.   1.   0.   3.]\n",
            "[0.19 0.35 0.25 0.11 0.05 0.03 0.02 0.02 0.   0.01]\n",
            "[0.75 0.24 0.02 0.   0.   0.   0.   0.   0.   0.01]\n",
            "[  30.   991.2 1952.4 2913.6 3874.8 4836.  5797.2 6758.4 7719.6 8680.8\n",
            " 9642. ]\n",
            "[  30.   991.2 1952.4 2913.6 3874.8 4836.  5797.2 6758.4 7719.6 8680.8\n",
            " 9642. ]\n"
          ]
        },
        {
          "output_type": "display_data",
          "data": {
            "text/plain": [
              "<Figure size 640x480 with 1 Axes>"
            ],
            "image/png": "[encoded data removed]"
          },
          "metadata": {}
        }
      ]
    },
    {
      "cell_type": "code",
      "source": [
        "values_x"
      ],
      "metadata": {
        "colab": {
          "base_uri": "https://localhost:8080/"
        },
        "id": "X5Z7dhtaa35R",
        "outputId": "2f4297dd-f631-4400-ce03-de89ddcaa25b"
      },
      "execution_count": 363,
      "outputs": [
        {
          "output_type": "execute_result",
          "data": {
            "text/plain": [
              "array([  30. ,  991.2, 1952.4, 2913.6, 3874.8, 4836. , 5797.2, 6758.4,\n",
              "       7719.6, 8680.8, 9642. ])"
            ]
          },
          "metadata": {},
          "execution_count": 363
        }
      ]
    },
    {
      "cell_type": "code",
      "source": [
        "plt.figure(figsize=(14,7))\n",
        "y1 = pd.cut(df['C11'], bins=k).value_counts(sort=False, normalize = True).values\n",
        "plt.bar(values_x[:10], y1, width=960, alpha=0.6)\n",
        "\n",
        "y2 = pd.cut(df['C12'], bins=k).value_counts(sort=False, normalize = True).values\n",
        "plt.bar(values_y[:10], y2, width=960, alpha=0.6)"
      ],
      "metadata": {
        "colab": {
          "base_uri": "https://localhost:8080/",
          "height": 616
        },
        "id": "jic3C6vMVkcD",
        "outputId": "ff8b7feb-cc5d-4b60-b900-ae2501e00183"
      },
      "execution_count": 391,
      "outputs": [
        {
          "output_type": "execute_result",
          "data": {
            "text/plain": [
              "<BarContainer object of 10 artists>"
            ]
          },
          "metadata": {},
          "execution_count": 391
        },
        {
          "output_type": "display_data",
          "data": {
            "text/plain": [
              "<Figure size 1400x700 with 1 Axes>"
            ],
            "image/png": "[encoded data removed]"
          },
          "metadata": {}
        }
      ]
    },
    {
      "cell_type": "markdown",
      "source": [
        "### 6. Таблицы сопряжённости"
      ],
      "metadata": {
        "id": "GUI0Y8wEgqp6"
      }
    },
    {
      "cell_type": "code",
      "source": [
        "confusion_matrix = pd.crosstab(df['C2'], df['C5'])\n",
        "confusion_matrix"
      ],
      "metadata": {
        "colab": {
          "base_uri": "https://localhost:8080/",
          "height": 142
        },
        "id": "gZJ2DX5wgrmu",
        "outputId": "9fcb1d31-3e94-4476-9077-285a956433c6"
      },
      "execution_count": 397,
      "outputs": [
        {
          "output_type": "execute_result",
          "data": {
            "text/plain": [
              "C5      No  Not often  Often\n",
              "C2                          \n",
              "Female  87         77    109\n",
              "Male    24          5     13"
            ],
            "text/html": [
              "\n",
              "  <div id=\"df-c258e3f1-78d7-4454-ab44-48221e3f09b7\" class=\"colab-df-container\">\n",
              "    <div>\n",
              "<style scoped>\n",
              "    .dataframe tbody tr th:only-of-type {\n",
              "        vertical-align: middle;\n",
              "    }\n",
              "\n",
              "    .dataframe tbody tr th {\n",
              "        vertical-align: top;\n",
              "    }\n",
              "\n",
              "    .dataframe thead th {\n",
              "        text-align: right;\n",
              "    }\n",
              "</style>\n",
              "<table border=\"1\" class=\"dataframe\">\n",
              "  <thead>\n",
              "    <tr style=\"text-align: right;\">\n",
              "      <th>C5</th>\n",
              "      <th>No</th>\n",
              "      <th>Not often</th>\n",
              "      <th>Often</th>\n",
              "    </tr>\n",
              "    <tr>\n",
              "      <th>C2</th>\n",
              "      <th></th>\n",
              "      <th></th>\n",
              "      <th></th>\n",
              "    </tr>\n",
              "  </thead>\n",
              "  <tbody>\n",
              "    <tr>\n",
              "      <th>Female</th>\n",
              "      <td>87</td>\n",
              "      <td>77</td>\n",
              "      <td>109</td>\n",
              "    </tr>\n",
              "    <tr>\n",
              "      <th>Male</th>\n",
              "      <td>24</td>\n",
              "      <td>5</td>\n",
              "      <td>13</td>\n",
              "    </tr>\n",
              "  </tbody>\n",
              "</table>\n",
              "</div>\n",
              "    <div class=\"colab-df-buttons\">\n",
              "\n",
              "  <div class=\"colab-df-container\">\n",
              "    <button class=\"colab-df-convert\" onclick=\"convertToInteractive('df-c258e3f1-78d7-4454-ab44-48221e3f09b7')\"\n",
              "            title=\"Convert this dataframe to an interactive table.\"\n",
              "            style=\"display:none;\">\n",
              "\n",
              "  <svg xmlns=\"http://www.w3.org/2000/svg\" height=\"24px\" viewBox=\"0 -960 960 960\">\n",
              "    <path d=\"M120-120v-720h720v720H120Zm60-500h600v-160H180v160Zm220 220h160v-160H400v160Zm0 220h160v-160H400v160ZM180-400h160v-160H180v160Zm440 0h160v-160H620v160ZM180-180h160v-160H180v160Zm440 0h160v-160H620v160Z\"/>\n",
              "  </svg>\n",
              "    </button>\n",
              "\n",
              "  <style>\n",
              "    .colab-df-container {\n",
              "      display:flex;\n",
              "      gap: 12px;\n",
              "    }\n",
              "\n",
              "    .colab-df-convert {\n",
              "      background-color: #E8F0FE;\n",
              "      border: none;\n",
              "      border-radius: 50%;\n",
              "      cursor: pointer;\n",
              "      display: none;\n",
              "      fill: #1967D2;\n",
              "      height: 32px;\n",
              "      padding: 0 0 0 0;\n",
              "      width: 32px;\n",
              "    }\n",
              "\n",
              "    .colab-df-convert:hover {\n",
              "      background-color: #E2EBFA;\n",
              "      box-shadow: 0px 1px 2px rgba(60, 64, 67, 0.3), 0px 1px 3px 1px rgba(60, 64, 67, 0.15);\n",
              "      fill: #174EA6;\n",
              "    }\n",
              "\n",
              "    .colab-df-buttons div {\n",
              "      margin-bottom: 4px;\n",
              "    }\n",
              "\n",
              "    [theme=dark] .colab-df-convert {\n",
              "      background-color: #3B4455;\n",
              "      fill: #D2E3FC;\n",
              "    }\n",
              "\n",
              "    [theme=dark] .colab-df-convert:hover {\n",
              "      background-color: #434B5C;\n",
              "      box-shadow: 0px 1px 3px 1px rgba(0, 0, 0, 0.15);\n",
              "      filter: drop-shadow(0px 1px 2px rgba(0, 0, 0, 0.3));\n",
              "      fill: #FFFFFF;\n",
              "    }\n",
              "  </style>\n",
              "\n",
              "    <script>\n",
              "      const buttonEl =\n",
              "        document.querySelector('#df-c258e3f1-78d7-4454-ab44-48221e3f09b7 button.colab-df-convert');\n",
              "      buttonEl.style.display =\n",
              "        google.colab.kernel.accessAllowed ? 'block' : 'none';\n",
              "\n",
              "      async function convertToInteractive(key) {\n",
              "        const element = document.querySelector('#df-c258e3f1-78d7-4454-ab44-48221e3f09b7');\n",
              "        const dataTable =\n",
              "          await google.colab.kernel.invokeFunction('convertToInteractive',\n",
              "                                                    [key], {});\n",
              "        if (!dataTable) return;\n",
              "\n",
              "        const docLinkHtml = 'Like what you see? Visit the ' +\n",
              "          '<a target=\"_blank\" href=https://colab.research.google.com/notebooks/data_table.ipynb>data table notebook</a>'\n",
              "          + ' to learn more about interactive tables.';\n",
              "        element.innerHTML = '';\n",
              "        dataTable['output_type'] = 'display_data';\n",
              "        await google.colab.output.renderOutput(dataTable, element);\n",
              "        const docLink = document.createElement('div');\n",
              "        docLink.innerHTML = docLinkHtml;\n",
              "        element.appendChild(docLink);\n",
              "      }\n",
              "    </script>\n",
              "  </div>\n",
              "\n",
              "\n",
              "<div id=\"df-bed17add-b6bd-465e-a27b-0bb8341102a1\">\n",
              "  <button class=\"colab-df-quickchart\" onclick=\"quickchart('df-bed17add-b6bd-465e-a27b-0bb8341102a1')\"\n",
              "            title=\"Suggest charts\"\n",
              "            style=\"display:none;\">\n",
              "\n",
              "<svg xmlns=\"http://www.w3.org/2000/svg\" height=\"24px\"viewBox=\"0 0 24 24\"\n",
              "     width=\"24px\">\n",
              "    <g>\n",
              "        <path d=\"M19 3H5c-1.1 0-2 .9-2 2v14c0 1.1.9 2 2 2h14c1.1 0 2-.9 2-2V5c0-1.1-.9-2-2-2zM9 17H7v-7h2v7zm4 0h-2V7h2v10zm4 0h-2v-4h2v4z\"/>\n",
              "    </g>\n",
              "</svg>\n",
              "  </button>\n",
              "\n",
              "<style>\n",
              "  .colab-df-quickchart {\n",
              "      --bg-color: #E8F0FE;\n",
              "      --fill-color: #1967D2;\n",
              "      --hover-bg-color: #E2EBFA;\n",
              "      --hover-fill-color: #174EA6;\n",
              "      --disabled-fill-color: #AAA;\n",
              "      --disabled-bg-color: #DDD;\n",
              "  }\n",
              "\n",
              "  [theme=dark] .colab-df-quickchart {\n",
              "      --bg-color: #3B4455;\n",
              "      --fill-color: #D2E3FC;\n",
              "      --hover-bg-color: #434B5C;\n",
              "      --hover-fill-color: #FFFFFF;\n",
              "      --disabled-bg-color: #3B4455;\n",
              "      --disabled-fill-color: #666;\n",
              "  }\n",
              "\n",
              "  .colab-df-quickchart {\n",
              "    background-color: var(--bg-color);\n",
              "    border: none;\n",
              "    border-radius: 50%;\n",
              "    cursor: pointer;\n",
              "    display: none;\n",
              "    fill: var(--fill-color);\n",
              "    height: 32px;\n",
              "    padding: 0;\n",
              "    width: 32px;\n",
              "  }\n",
              "\n",
              "  .colab-df-quickchart:hover {\n",
              "    background-color: var(--hover-bg-color);\n",
              "    box-shadow: 0 1px 2px rgba(60, 64, 67, 0.3), 0 1px 3px 1px rgba(60, 64, 67, 0.15);\n",
              "    fill: var(--button-hover-fill-color);\n",
              "  }\n",
              "\n",
              "  .colab-df-quickchart-complete:disabled,\n",
              "  .colab-df-quickchart-complete:disabled:hover {\n",
              "    background-color: var(--disabled-bg-color);\n",
              "    fill: var(--disabled-fill-color);\n",
              "    box-shadow: none;\n",
              "  }\n",
              "\n",
              "  .colab-df-spinner {\n",
              "    border: 2px solid var(--fill-color);\n",
              "    border-color: transparent;\n",
              "    border-bottom-color: var(--fill-color);\n",
              "    animation:\n",
              "      spin 1s steps(1) infinite;\n",
              "  }\n",
              "\n",
              "  @keyframes spin {\n",
              "    0% {\n",
              "      border-color: transparent;\n",
              "      border-bottom-color: var(--fill-color);\n",
              "      border-left-color: var(--fill-color);\n",
              "    }\n",
              "    20% {\n",
              "      border-color: transparent;\n",
              "      border-left-color: var(--fill-color);\n",
              "      border-top-color: var(--fill-color);\n",
              "    }\n",
              "    30% {\n",
              "      border-color: transparent;\n",
              "      border-left-color: var(--fill-color);\n",
              "      border-top-color: var(--fill-color);\n",
              "      border-right-color: var(--fill-color);\n",
              "    }\n",
              "    40% {\n",
              "      border-color: transparent;\n",
              "      border-right-color: var(--fill-color);\n",
              "      border-top-color: var(--fill-color);\n",
              "    }\n",
              "    60% {\n",
              "      border-color: transparent;\n",
              "      border-right-color: var(--fill-color);\n",
              "    }\n",
              "    80% {\n",
              "      border-color: transparent;\n",
              "      border-right-color: var(--fill-color);\n",
              "      border-bottom-color: var(--fill-color);\n",
              "    }\n",
              "    90% {\n",
              "      border-color: transparent;\n",
              "      border-bottom-color: var(--fill-color);\n",
              "    }\n",
              "  }\n",
              "</style>\n",
              "\n",
              "  <script>\n",
              "    async function quickchart(key) {\n",
              "      const quickchartButtonEl =\n",
              "        document.querySelector('#' + key + ' button');\n",
              "      quickchartButtonEl.disabled = true;  // To prevent multiple clicks.\n",
              "      quickchartButtonEl.classList.add('colab-df-spinner');\n",
              "      try {\n",
              "        const charts = await google.colab.kernel.invokeFunction(\n",
              "            'suggestCharts', [key], {});\n",
              "      } catch (error) {\n",
              "        console.error('Error during call to suggestCharts:', error);\n",
              "      }\n",
              "      quickchartButtonEl.classList.remove('colab-df-spinner');\n",
              "      quickchartButtonEl.classList.add('colab-df-quickchart-complete');\n",
              "    }\n",
              "    (() => {\n",
              "      let quickchartButtonEl =\n",
              "        document.querySelector('#df-bed17add-b6bd-465e-a27b-0bb8341102a1 button');\n",
              "      quickchartButtonEl.style.display =\n",
              "        google.colab.kernel.accessAllowed ? 'block' : 'none';\n",
              "    })();\n",
              "  </script>\n",
              "</div>\n",
              "    </div>\n",
              "  </div>\n"
            ]
          },
          "metadata": {},
          "execution_count": 397
        }
      ]
    },
    {
      "cell_type": "code",
      "source": [
        "np_matrix = confusion_matrix.to_numpy()"
      ],
      "metadata": {
        "id": "Po5dmnPTgvT8"
      },
      "execution_count": 398,
      "outputs": []
    },
    {
      "cell_type": "code",
      "source": [
        "n = np_matrix.sum()\n",
        "transposed = np_matrix.transpose()\n",
        "\n",
        "m = []\n",
        "\n",
        "for i in range(np_matrix.shape[0]):\n",
        "  m_line = []\n",
        "\n",
        "  for j in range(np_matrix.shape[1]):\n",
        "    row_sum = np.sum(np_matrix[i])\n",
        "    col_sum = np.sum(transposed[j])\n",
        "\n",
        "    m_line.append((row_sum * col_sum) / n)\n",
        "\n",
        "  m.append(m_line)"
      ],
      "metadata": {
        "id": "E5kQBgW7hAEM"
      },
      "execution_count": 407,
      "outputs": []
    },
    {
      "cell_type": "code",
      "source": [
        "sum(m[1])"
      ],
      "metadata": {
        "colab": {
          "base_uri": "https://localhost:8080/"
        },
        "id": "wP5wk1dGkasV",
        "outputId": "314b7fea-35f4-496e-a7a4-a6eb9f4d019c"
      },
      "execution_count": 421,
      "outputs": [
        {
          "output_type": "execute_result",
          "data": {
            "text/plain": [
              "42.0"
            ]
          },
          "metadata": {},
          "execution_count": 421
        }
      ]
    },
    {
      "cell_type": "code",
      "source": [
        "assert(sum(m[0]) + sum(m[1]) == n)"
      ],
      "metadata": {
        "id": "eNrtao7jiyEW"
      },
      "execution_count": 413,
      "outputs": []
    },
    {
      "cell_type": "code",
      "source": [
        "z = 0\n",
        "\n",
        "for i in range(np_matrix.shape[0]):\n",
        "  for j in range(np_matrix.shape[1]):\n",
        "    z += ((np_matrix[i][j] - m[i][j]) ** 2) / m[i][j]\n",
        "\n",
        "f_z_chi =  st.chi2((np_matrix.shape[0])*(np_matrix.shape[1])).cdf(z)\n",
        "p_value = 2 * min(f_z_chi, 1 - f_z_chi)\n",
        "f_z_chi, p_value"
      ],
      "metadata": {
        "colab": {
          "base_uri": "https://localhost:8080/"
        },
        "id": "klqv8kO4iV90",
        "outputId": "c20288ed-9d61-44ba-cf4f-85274896cb79"
      },
      "execution_count": 417,
      "outputs": [
        {
          "output_type": "execute_result",
          "data": {
            "text/plain": [
              "(0.9137926464325167, 0.17241470713496665)"
            ]
          },
          "metadata": {},
          "execution_count": 417
        }
      ]
    },
    {
      "cell_type": "markdown",
      "source": [
        "### 7. Дисперсионный анализ"
      ],
      "metadata": {
        "id": "fqehvAtwk3Qo"
      }
    },
    {
      "cell_type": "code",
      "source": [
        "values_mapper = {key: [] for key in df['C5'].unique()}"
      ],
      "metadata": {
        "id": "G441IeKvlJyB"
      },
      "execution_count": 424,
      "outputs": []
    },
    {
      "cell_type": "code",
      "source": [
        "c5_values = df['C5'].values\n",
        "c4_values = df['C4'].values"
      ],
      "metadata": {
        "id": "L47dC_0nmK1U"
      },
      "execution_count": 430,
      "outputs": []
    },
    {
      "cell_type": "code",
      "source": [
        "for i in range(len(df)):\n",
        "  values_mapper[c5_values[i]].append(c4_values[i])"
      ],
      "metadata": {
        "id": "dWRtV8IUmDsr"
      },
      "execution_count": 431,
      "outputs": []
    },
    {
      "cell_type": "code",
      "source": [
        "values_mapper = dict(zip(values_mapper.keys(), map(np.array, values_mapper.values())))"
      ],
      "metadata": {
        "id": "FzJebFRym-an"
      },
      "execution_count": 435,
      "outputs": []
    },
    {
      "cell_type": "code",
      "source": [
        "for key, value in values_mapper.items():\n",
        "  print(f'{key}: volume: {value.shape[0]}; mean: {value.mean()}; var: {value.var()}')"
      ],
      "metadata": {
        "colab": {
          "base_uri": "https://localhost:8080/"
        },
        "id": "i9Lg9-20m_AM",
        "outputId": "37bdce4a-774e-4f46-87fd-e9ed37afc352"
      },
      "execution_count": 437,
      "outputs": [
        {
          "output_type": "stream",
          "name": "stdout",
          "text": [
            "Often: volume: 122; mean: 25.505599016393443; var: 33.52974779371378\n",
            "Not often: volume: 82; mean: 26.625974999999997; var: 41.23889298755427\n",
            "No: volume: 111; mean: 26.527564234234237; var: 34.21488781772891\n"
          ]
        }
      ]
    },
    {
      "cell_type": "code",
      "source": [
        "distributions = list(values_mapper.values())\n",
        "concated = np.concatenate(distributions)"
      ],
      "metadata": {
        "id": "8VfQHbJ3nWTs"
      },
      "execution_count": 439,
      "outputs": []
    },
    {
      "cell_type": "code",
      "source": [
        "K = 3\n",
        "concated = np.concatenate(distributions)\n",
        "total_mean = np.mean(concated)\n",
        "total_variance = np.concatenate(distributions).var()\n",
        "\n",
        "intragroup = np.sum([len(distribution) * distribution.var() for distribution in distributions]) / concated.shape[0]\n",
        "intergroup = np.sum([len(distribution) * (distribution.mean() - total_mean) ** 2 for distribution in distributions]) / concated.shape[0]\n",
        "\n",
        "intragroup_variation_coef = intragroup / (np.sum([len(distribution) * distribution.mean() for distribution in distributions]) / concated.shape[0])\n",
        "interagroup_variation_coef = intergroup / (np.sum([len(distribution) * distribution.mean() for distribution in distributions]) / concated.shape[0])"
      ],
      "metadata": {
        "id": "_8RIpfPdoxzd"
      },
      "execution_count": 440,
      "outputs": []
    },
    {
      "cell_type": "code",
      "source": [
        "assert(np.isclose(intergroup + intragroup, np.concatenate(distributions).var()))"
      ],
      "metadata": {
        "id": "9mKuzKYJo_0W"
      },
      "execution_count": 446,
      "outputs": []
    },
    {
      "cell_type": "code",
      "source": [
        "intragroup_variation_coef, interagroup_variation_coef"
      ],
      "metadata": {
        "colab": {
          "base_uri": "https://localhost:8080/"
        },
        "id": "skhpahADpDGq",
        "outputId": "9f9a0817-eaea-4673-cde7-5763ca6f7c4c"
      },
      "execution_count": 442,
      "outputs": [
        {
          "output_type": "execute_result",
          "data": {
            "text/plain": [
              "(1.3677979998031162, 0.010321476089337214)"
            ]
          },
          "metadata": {},
          "execution_count": 442
        }
      ]
    },
    {
      "cell_type": "code",
      "source": [
        "intragroup, intergroup"
      ],
      "metadata": {
        "colab": {
          "base_uri": "https://localhost:8080/"
        },
        "id": "RmSs3i7IpFRN",
        "outputId": "cd2efa3c-86b4-4dbd-dd3e-9dc1ea03d8a5"
      },
      "execution_count": 443,
      "outputs": [
        {
          "output_type": "execute_result",
          "data": {
            "text/plain": [
              "(35.77800318596965, 0.2699827053858623)"
            ]
          },
          "metadata": {},
          "execution_count": 443
        }
      ]
    },
    {
      "cell_type": "code",
      "source": [
        "concated.var() / concated.mean()"
      ],
      "metadata": {
        "colab": {
          "base_uri": "https://localhost:8080/"
        },
        "id": "6LXumOM4rlxx",
        "outputId": "fc007625-f0af-431c-c4c1-7c289739b1c1"
      },
      "execution_count": 450,
      "outputs": [
        {
          "output_type": "execute_result",
          "data": {
            "text/plain": [
              "1.3781194758924538"
            ]
          },
          "metadata": {},
          "execution_count": 450
        }
      ]
    },
    {
      "cell_type": "code",
      "source": [
        "(intragroup * n)/(K - 1) # Несмещенная оценка: Факторный признак"
      ],
      "metadata": {
        "colab": {
          "base_uri": "https://localhost:8080/"
        },
        "id": "-MWG7uuXsC5p",
        "outputId": "6db30dd5-0add-46b2-b608-4115d1afd58d"
      },
      "execution_count": 455,
      "outputs": [
        {
          "output_type": "execute_result",
          "data": {
            "text/plain": [
              "5635.03550179022"
            ]
          },
          "metadata": {},
          "execution_count": 455
        }
      ]
    },
    {
      "cell_type": "code",
      "source": [
        "(intergroup * n)/(n - K) # Несмещенная оценка: Остаточный признак"
      ],
      "metadata": {
        "colab": {
          "base_uri": "https://localhost:8080/"
        },
        "id": "fhw3QrWmsLPV",
        "outputId": "5ae5b570-bba0-4602-8a1c-7a08ac9a9c50"
      },
      "execution_count": 456,
      "outputs": [
        {
          "output_type": "execute_result",
          "data": {
            "text/plain": [
              "0.2725786929376494"
            ]
          },
          "metadata": {},
          "execution_count": 456
        }
      ]
    },
    {
      "cell_type": "code",
      "source": [
        "(concated.var() * n) / (n - 1) # Несмещенная оценка: Общегрупповая"
      ],
      "metadata": {
        "colab": {
          "base_uri": "https://localhost:8080/"
        },
        "id": "_6xTHzXssXPf",
        "outputId": "35df33f9-f304-4ab7-ffa3-a5e3b2b1499f"
      },
      "execution_count": 454,
      "outputs": [
        {
          "output_type": "execute_result",
          "data": {
            "text/plain": [
              "36.16278839419424"
            ]
          },
          "metadata": {},
          "execution_count": 454
        }
      ]
    },
    {
      "cell_type": "code",
      "source": [
        "f'Эмперический коэффициент детерминации: {np.round(intergroup / (intergroup + intragroup), 2)}'"
      ],
      "metadata": {
        "colab": {
          "base_uri": "https://localhost:8080/",
          "height": 35
        },
        "id": "3URpbkjQtyaT",
        "outputId": "8be89d7c-d559-40d9-b69f-c6cb77b29244"
      },
      "execution_count": 457,
      "outputs": [
        {
          "output_type": "execute_result",
          "data": {
            "text/plain": [
              "'Эмперический коэффициент детерминации: 0.01'"
            ],
            "application/vnd.google.colaboratory.intrinsic+json": {
              "type": "string"
            }
          },
          "metadata": {},
          "execution_count": 457
        }
      ]
    },
    {
      "cell_type": "code",
      "source": [
        "f'Эмперическое корелляционное отношение: {np.round(np.sqrt(intergroup / (intergroup + intragroup)), 2)}'"
      ],
      "metadata": {
        "colab": {
          "base_uri": "https://localhost:8080/",
          "height": 35
        },
        "id": "2gbdjHiQt0Hz",
        "outputId": "c0fe0561-8a91-4758-ac9b-9223fbe130f6"
      },
      "execution_count": 458,
      "outputs": [
        {
          "output_type": "execute_result",
          "data": {
            "text/plain": [
              "'Эмперическое корелляционное отношение: 0.09'"
            ],
            "application/vnd.google.colaboratory.intrinsic+json": {
              "type": "string"
            }
          },
          "metadata": {},
          "execution_count": 458
        }
      ]
    },
    {
      "cell_type": "code",
      "source": [
        "st.f_oneway(distributions[0], distributions[1], distributions[2])"
      ],
      "metadata": {
        "colab": {
          "base_uri": "https://localhost:8080/"
        },
        "id": "ZWw4sOCipG1A",
        "outputId": "3239a0b5-b5e1-4ea3-8017-c1fff0ee8aea"
      },
      "execution_count": 448,
      "outputs": [
        {
          "output_type": "execute_result",
          "data": {
            "text/plain": [
              "F_onewayResult(statistic=1.1771842554005598, pvalue=0.30950998475430086)"
            ]
          },
          "metadata": {},
          "execution_count": 448
        }
      ]
    },
    {
      "cell_type": "markdown",
      "source": [
        "## 8. Корреляционный анализ\n",
        "### 8.1 Расчёт парных коэффициентов корреляции"
      ],
      "metadata": {
        "id": "a5z-_bVPvg4P"
      }
    },
    {
      "cell_type": "code",
      "source": [
        "x, y = df['C11'], df['C12']"
      ],
      "metadata": {
        "id": "kbcP8_Plvn-x"
      },
      "execution_count": 459,
      "outputs": []
    },
    {
      "cell_type": "code",
      "source": [
        "alpha = 0.01\n",
        "quantile = st.norm(loc = 0, scale = 1).ppf(1 - (alpha/2))\n",
        "\n",
        "r = np.corrcoef(x, y)[0][1]\n",
        "\n",
        "a = r + (r*(1-r**2)/(2*n)) - ((1-r**2)/n**(1/2)) * quantile\n",
        "b = r + (r*(1-r**2)/(2*n)) + ((1-r**2)/n**(1/2)) * quantile\n",
        "\n",
        "a, b"
      ],
      "metadata": {
        "colab": {
          "base_uri": "https://localhost:8080/"
        },
        "id": "PZdDBOFvxRGI",
        "outputId": "a22f1eb0-f072-402a-e481-8085c9b0e30c"
      },
      "execution_count": 470,
      "outputs": [
        {
          "output_type": "execute_result",
          "data": {
            "text/plain": [
              "(-0.09177532548783005, 0.1976764948580372)"
            ]
          },
          "metadata": {},
          "execution_count": 470
        }
      ]
    },
    {
      "cell_type": "code",
      "source": [
        "st.pearsonr(x, y), st.spearmanr(x, y), st.kendalltau(x, y)"
      ],
      "metadata": {
        "colab": {
          "base_uri": "https://localhost:8080/"
        },
        "id": "jvcr29BLwcX6",
        "outputId": "77217e9f-95ea-4942-f8b7-bb9b22e74d9b"
      },
      "execution_count": 460,
      "outputs": [
        {
          "output_type": "execute_result",
          "data": {
            "text/plain": [
              "(PearsonRResult(statistic=0.052866903502100424, pvalue=0.3496757486979532),\n",
              " SignificanceResult(statistic=0.1962857839707222, pvalue=0.0004582828568191489),\n",
              " SignificanceResult(statistic=0.1328626107882256, pvalue=0.0004387531397532802))"
            ]
          },
          "metadata": {},
          "execution_count": 460
        }
      ]
    },
    {
      "cell_type": "markdown",
      "source": [
        "### 8.2. Расчёт множественных коэффициентов корреляции\n"
      ],
      "metadata": {
        "id": "VInIrmwgzIBu"
      }
    },
    {
      "cell_type": "code",
      "source": [
        "x, y, z = df['C9'], df['C10'], df['C11']"
      ],
      "metadata": {
        "id": "1xvwsuPczIuh"
      },
      "execution_count": 609,
      "outputs": []
    },
    {
      "cell_type": "code",
      "source": [
        "distributions = [x, y, z]\n",
        "\n",
        "kendall_pvalue = []\n",
        "kendall = []\n",
        "\n",
        "for i in range(len(distributions)):\n",
        "  kendall_row = []\n",
        "  kendall_row_p = []\n",
        "  for j in range(len(distributions)):\n",
        "    t = st.kendalltau(distributions[i], distributions[j])\n",
        "    kendall_row.append(t[0])\n",
        "\n",
        "    if i != j:\n",
        "      kendall_row_p.append(t[1])\n",
        "    else:\n",
        "      kendall_row_p.append('null')\n",
        "\n",
        "\n",
        "  kendall_pvalue.append(kendall_row_p)\n",
        "  kendall.append(kendall_row)\n",
        "\n",
        "kendall_pvalue\n"
      ],
      "metadata": {
        "colab": {
          "base_uri": "https://localhost:8080/"
        },
        "id": "3RhV8uq_zNm5",
        "outputId": "fe063945-9599-4181-f8be-ceb869f784f7"
      },
      "execution_count": 612,
      "outputs": [
        {
          "output_type": "execute_result",
          "data": {
            "text/plain": [
              "[['null', 0.10039805590011303, 0.266572886083427],\n",
              " [0.10039805590011303, 'null', 0.0005954463078042198],\n",
              " [0.266572886083427, 0.0005954463078042198, 'null']]"
            ]
          },
          "metadata": {},
          "execution_count": 612
        }
      ]
    },
    {
      "cell_type": "code",
      "source": [
        "kendall"
      ],
      "metadata": {
        "colab": {
          "base_uri": "https://localhost:8080/"
        },
        "id": "S6N0CyjgTSen",
        "outputId": "94e2d42a-8c11-47c5-b39f-d492eb5628c7"
      },
      "execution_count": 613,
      "outputs": [
        {
          "output_type": "execute_result",
          "data": {
            "text/plain": [
              "[[1.0, 0.06533464205687976, 0.044182285405969406],\n",
              " [0.06533464205687975, 1.0, 0.12972644997627059],\n",
              " [0.044182285405969406, 0.12972644997627059, 1.0]]"
            ]
          },
          "metadata": {},
          "execution_count": 613
        }
      ]
    },
    {
      "cell_type": "code",
      "source": [
        "w = 0\n",
        "k = 3\n",
        "\n",
        "r1, r2, r3 = pd.Series(x).rank(), pd.Series(y).rank(), pd.Series(z).rank()\n",
        "ranks = [r1, r2, r3]\n",
        "ranks_mean = 0\n",
        "\n",
        "for i in range(n):\n",
        "  ranks_mean = 0\n",
        "\n",
        "  for j in range(k):\n",
        "    ranks_mean += (1/ k) * ranks[j][i]\n",
        "  w += (ranks_mean - (n + 1) / 2) ** 2\n",
        "\n",
        "w = (w * 12) / (n ** 3 - n)\n",
        "\n",
        "w"
      ],
      "metadata": {
        "colab": {
          "base_uri": "https://localhost:8080/"
        },
        "id": "YfqbjMCu0S5y",
        "outputId": "6f7f4d04-237e-4ead-a17c-c8b231d7d8bb"
      },
      "execution_count": 486,
      "outputs": [
        {
          "output_type": "execute_result",
          "data": {
            "text/plain": [
              "0.405192782766757"
            ]
          },
          "metadata": {},
          "execution_count": 486
        }
      ]
    },
    {
      "cell_type": "code",
      "source": [
        "z = k * (n - 1) * w\n",
        "f_z = st.chi2(n-1).cdf(z)\n",
        "p_value = 2 * min(f_z, 1 - f_z)\n",
        "\n",
        "z, p_value"
      ],
      "metadata": {
        "colab": {
          "base_uri": "https://localhost:8080/"
        },
        "id": "e5Q-4Gb11wO1",
        "outputId": "ea9947e1-53fb-4c06-99ab-4f3b5f51af9b"
      },
      "execution_count": 490,
      "outputs": [
        {
          "output_type": "execute_result",
          "data": {
            "text/plain": [
              "(381.6916013662851, 0.010633920174614397)"
            ]
          },
          "metadata": {},
          "execution_count": 490
        }
      ]
    },
    {
      "cell_type": "markdown",
      "source": [
        "### 9. Регрессионный анализ\n",
        "### 9.1 Простейшая линейная регрессионная модель"
      ],
      "metadata": {
        "id": "UTclEFBB5YOz"
      }
    },
    {
      "cell_type": "code",
      "source": [
        "x, y = df['C11'], df['C13']"
      ],
      "metadata": {
        "id": "xzhZpEkH5eAJ"
      },
      "execution_count": 491,
      "outputs": []
    },
    {
      "cell_type": "code",
      "source": [
        "groups = df.groupby(['C11']).groups\n",
        "\n",
        "for key in groups:\n",
        "  values = [0] * len(groups[key])\n",
        "\n",
        "  for i in range(len(groups[key])):\n",
        "    j = groups[key][i]\n",
        "    values[i] = y[j]\n",
        "\n",
        "  groups[key] = values"
      ],
      "metadata": {
        "id": "LtUcguFi5wBt"
      },
      "execution_count": 494,
      "outputs": []
    },
    {
      "cell_type": "code",
      "source": [
        "k_xy = np.corrcoef(x, y)[0][1]\n",
        "\n",
        "beta0 = y.mean() - k_xy * y.std() * x.mean() / x.std()\n",
        "beta1 = k_xy * y.std() / x.std()\n",
        "\n",
        "beta0, beta1"
      ],
      "metadata": {
        "colab": {
          "base_uri": "https://localhost:8080/"
        },
        "id": "GOk0Kjy46uie",
        "outputId": "f2b112e9-6c3b-40ed-8246-a5aeffc96058"
      },
      "execution_count": 502,
      "outputs": [
        {
          "output_type": "execute_result",
          "data": {
            "text/plain": [
              "(128.89386881962395, 0.027909089527889522)"
            ]
          },
          "metadata": {},
          "execution_count": 502
        }
      ]
    },
    {
      "cell_type": "code",
      "source": [
        "var_yx = 0\n",
        "\n",
        "var_resy = 0\n",
        "for i in range(n):\n",
        "  var_resy += ((y[i] - (beta0 + beta1 * x[i])) ** 2) / n\n",
        "\n",
        "var_y = y.var()"
      ],
      "metadata": {
        "id": "y8EOq6Hm62mV"
      },
      "execution_count": 510,
      "outputs": []
    },
    {
      "cell_type": "code",
      "source": [
        "var_yx = var_y - var_resy\n",
        "var_yx, var_resy, var_y"
      ],
      "metadata": {
        "colab": {
          "base_uri": "https://localhost:8080/"
        },
        "id": "scmXwpCn7-FT",
        "outputId": "48de6c0b-96a1-4f86-d087-db4e6fccd062"
      },
      "execution_count": 513,
      "outputs": [
        {
          "output_type": "execute_result",
          "data": {
            "text/plain": [
              "(1793.0179238660676, 31696.27612122543, 33489.2940450915)"
            ]
          },
          "metadata": {},
          "execution_count": 513
        }
      ]
    },
    {
      "cell_type": "code",
      "source": [
        "k = 2\n",
        "(n*var_yx)/(k-1), (n*var_resy)/(n-k), (n*var_y)/(n-1)"
      ],
      "metadata": {
        "colab": {
          "base_uri": "https://localhost:8080/"
        },
        "id": "pB307unt8mf-",
        "outputId": "5dac702f-74a6-4cc4-d35a-d2769fae6bfc"
      },
      "execution_count": 515,
      "outputs": [
        {
          "output_type": "execute_result",
          "data": {
            "text/plain": [
              "(564800.6460178113, 31898.808237016012, 33595.947847782874)"
            ]
          },
          "metadata": {},
          "execution_count": 515
        }
      ]
    },
    {
      "cell_type": "code",
      "source": [
        "var_yx / var_y, (var_yx/var_y)**(1/2)\n",
        "# коэффициент детерминации, корелляционное отношение"
      ],
      "metadata": {
        "colab": {
          "base_uri": "https://localhost:8080/"
        },
        "id": "C4WQ84XA-AbK",
        "outputId": "a7019641-7239-488f-ecab-a892cedfd287"
      },
      "execution_count": 517,
      "outputs": [
        {
          "output_type": "execute_result",
          "data": {
            "text/plain": [
              "(0.05354003346418313, 0.23138719382062425)"
            ]
          },
          "metadata": {},
          "execution_count": 517
        }
      ]
    },
    {
      "cell_type": "code",
      "source": [
        "var_res_lined = 0\n",
        "for i in range(n):\n",
        "  var_res_lined += ((y.mean() + k_xy * y.std() / x.std() * (x[i] - x.mean()) - y[i])**2)/(n-2)\n",
        "\n",
        "x_squared_sum = (x ** 2).sum()\n",
        "\n",
        "alphas = [0.01, 0.05, 0.1]\n",
        "\n",
        "for alpha in alphas:\n",
        "  beta0_addition = st.t(n-2).ppf(1-alpha/2) * np.sqrt(var_res_lined * x_squared_sum / (x.var() * n**2))\n",
        "  beta1_addition = st.t(n-2).ppf(1-alpha/2) * np.sqrt(var_res_lined / (n * x.var()))\n",
        "  print(f'Beta0 interval: ({beta0 - beta0_addition}, {beta0 + beta0_addition}')\n",
        "  print(f'Beta1 interval: ({beta1 - beta1_addition}, {beta1 + beta1_addition}')"
      ],
      "metadata": {
        "colab": {
          "base_uri": "https://localhost:8080/"
        },
        "id": "dCzuxh_T-0l6",
        "outputId": "cd450f7b-936c-43bc-b1fa-b6b85668f6e3"
      },
      "execution_count": 549,
      "outputs": [
        {
          "output_type": "stream",
          "name": "stdout",
          "text": [
            "Beta0 interval: (82.27170766523736, 175.51602997401054\n",
            "Beta1 interval: (0.010214499269604445, 0.0456036797861746\n",
            "Beta0 interval: (93.49817530157056, 164.28956233767735\n",
            "Beta1 interval: (0.014475300140996994, 0.04134287891478205\n",
            "Beta0 interval: (99.2158878376834, 158.5718498015645\n",
            "Beta1 interval: (0.016645353567009347, 0.0391728254887697\n"
          ]
        }
      ]
    },
    {
      "cell_type": "code",
      "source": [
        "alpha = 0.1\n",
        "flow = []\n",
        "fhigh = []\n",
        "\n",
        "for i in range(n):\n",
        "    main = (y.mean() + k_xy * y.std() / x.std() * (x[i] - x.mean()))\n",
        "    addition = st.t(n - 2).ppf(1 - alpha / 2) * (var_res_lined * (1/n + (x[i] - x.mean())**2 / (n*x.var())))**(1/2)\n",
        "    flow.append(main - addition)\n",
        "    fhigh.append(main + addition)\n",
        "\n",
        "plt.scatter(x, y, color='blue')\n",
        "lin_reg = beta1 * x + beta0\n",
        "\n",
        "plt.plot(x, lin_reg, color='green')\n",
        "plt.plot(x, fhigh, linestyle = '-',color='red', linewidth = 0.5)\n",
        "plt.plot(x, flow, linestyle = '-', color='red', linewidth = 0.5)"
      ],
      "metadata": {
        "colab": {
          "base_uri": "https://localhost:8080/",
          "height": 447
        },
        "id": "mjHMOrMvDy_4",
        "outputId": "35e8b1da-fe83-4960-eb97-29dbda78c42d"
      },
      "execution_count": 551,
      "outputs": [
        {
          "output_type": "execute_result",
          "data": {
            "text/plain": [
              "[<matplotlib.lines.Line2D at 0x79612e65fc70>]"
            ]
          },
          "metadata": {},
          "execution_count": 551
        },
        {
          "output_type": "display_data",
          "data": {
            "text/plain": [
              "<Figure size 640x480 with 1 Axes>"
            ],
            "image/png": "[encoded data removed]"
          },
          "metadata": {}
        }
      ]
    },
    {
      "cell_type": "code",
      "source": [
        "remains = y - (beta1 * x + beta0)\n",
        "plt.scatter(x, remains, color='green')"
      ],
      "metadata": {
        "colab": {
          "base_uri": "https://localhost:8080/",
          "height": 447
        },
        "id": "jmCCOGBfFYyY",
        "outputId": "b9a4107a-d546-44d0-da60-2b787491fde7"
      },
      "execution_count": 554,
      "outputs": [
        {
          "output_type": "execute_result",
          "data": {
            "text/plain": [
              "<matplotlib.collections.PathCollection at 0x79612e9315d0>"
            ]
          },
          "metadata": {},
          "execution_count": 554
        },
        {
          "output_type": "display_data",
          "data": {
            "text/plain": [
              "<Figure size 640x480 with 1 Axes>"
            ],
            "image/png": "[encoded data removed]"
          },
          "metadata": {}
        }
      ]
    },
    {
      "cell_type": "code",
      "source": [
        "rsquared = 1 - var_resy / var_y\n",
        "z = rsquared / ((1 - rsquared) / (n - 2))\n",
        "\n",
        "z, 1 - st.f(1, n - 2).cdf(z)"
      ],
      "metadata": {
        "colab": {
          "base_uri": "https://localhost:8080/"
        },
        "id": "6m2UpPIrHSjk",
        "outputId": "4392c835-01ab-4a55-a354-8884936fd066"
      },
      "execution_count": 557,
      "outputs": [
        {
          "output_type": "execute_result",
          "data": {
            "text/plain": [
              "(17.706010889849026, 3.3715216787966185e-05)"
            ]
          },
          "metadata": {},
          "execution_count": 557
        }
      ]
    },
    {
      "cell_type": "markdown",
      "source": [
        "## 9.2 Линейная регрессионная модель общего вида"
      ],
      "metadata": {
        "id": "vzpOV877INen"
      }
    },
    {
      "cell_type": "code",
      "source": [
        "x, y = df['C11'], df['C13']"
      ],
      "metadata": {
        "id": "C2-cJ5WTIPTe"
      },
      "execution_count": 558,
      "outputs": []
    },
    {
      "cell_type": "code",
      "source": [
        "x_squared = x ** 2\n",
        "regression_matrix = regression_matrix = np.array([np.full(len(x), 1), x, x_squared]).transpose()\n",
        "F = np.dot(regression_matrix.transpose(), regression_matrix)\n",
        "result = np.dot(np.linalg.inv(F), regression_matrix.transpose())\n",
        "result = np.dot(result, y)"
      ],
      "metadata": {
        "id": "mNPfdY9GIp-V"
      },
      "execution_count": 572,
      "outputs": []
    },
    {
      "cell_type": "code",
      "source": [
        "beta0, beta1, beta2 = result[0], result[1], result[2]\n",
        "beta0, beta1, beta2"
      ],
      "metadata": {
        "colab": {
          "base_uri": "https://localhost:8080/"
        },
        "id": "nMPuJfzLJWWU",
        "outputId": "5954c028-e0c1-447a-e601-7d9e03105de4"
      },
      "execution_count": 573,
      "outputs": [
        {
          "output_type": "execute_result",
          "data": {
            "text/plain": [
              "(117.46391459020828, 0.037807235350453244, -1.4697514078436883e-06)"
            ]
          },
          "metadata": {},
          "execution_count": 573
        }
      ]
    },
    {
      "cell_type": "code",
      "source": [
        "var_yx = 0\n",
        "k = 3\n",
        "\n",
        "var_res = 0\n",
        "for i in range(n):\n",
        "    var_res += 1/n * (y[i] - (beta0 + beta1 * x[i] + beta2 * (x[i])**2))**2\n",
        "\n",
        "var_yx = y.var() - var_res"
      ],
      "metadata": {
        "id": "ULpoyuVtJluP"
      },
      "execution_count": 581,
      "outputs": []
    },
    {
      "cell_type": "code",
      "source": [
        "var_yx, var_res, y.var()"
      ],
      "metadata": {
        "colab": {
          "base_uri": "https://localhost:8080/"
        },
        "id": "emH_7hLlKE6B",
        "outputId": "9a5ca025-f130-4cc8-9eee-fc6e3cd91f27"
      },
      "execution_count": 582,
      "outputs": [
        {
          "output_type": "execute_result",
          "data": {
            "text/plain": [
              "(1821.5806112789978, 31667.7134338125, 33489.2940450915)"
            ]
          },
          "metadata": {},
          "execution_count": 582
        }
      ]
    },
    {
      "cell_type": "code",
      "source": [
        "var_res + y.std()"
      ],
      "metadata": {
        "colab": {
          "base_uri": "https://localhost:8080/"
        },
        "id": "9PDVC1DGKH90",
        "outputId": "5f6ba0fe-759d-4598-bc02-219b18dc559e"
      },
      "execution_count": 578,
      "outputs": [
        {
          "output_type": "execute_result",
          "data": {
            "text/plain": [
              "31850.714237212625"
            ]
          },
          "metadata": {},
          "execution_count": 578
        }
      ]
    },
    {
      "cell_type": "code",
      "source": [
        "(n*var_yx)/(k-1), (n*var_resy)/(n-k), (n*var_y)/(n-1)"
      ],
      "metadata": {
        "colab": {
          "base_uri": "https://localhost:8080/"
        },
        "id": "d2ReRDLdKTkc",
        "outputId": "6f1d7c8b-6b72-4dc3-8417-74216cd985bf"
      },
      "execution_count": 583,
      "outputs": [
        {
          "output_type": "execute_result",
          "data": {
            "text/plain": [
              "(286898.94627644215, 32001.048007006448, 33595.947847782874)"
            ]
          },
          "metadata": {},
          "execution_count": 583
        }
      ]
    },
    {
      "cell_type": "code",
      "source": [
        "var_yx / var_y, (var_yx/var_y)**(1/2)\n",
        "# коэффициент детерминации, корелляционное отношение"
      ],
      "metadata": {
        "colab": {
          "base_uri": "https://localhost:8080/"
        },
        "id": "yzRaXP-lKejd",
        "outputId": "813e479b-e1de-4753-9f64-5e0f0e3a0eaf"
      },
      "execution_count": 584,
      "outputs": [
        {
          "output_type": "execute_result",
          "data": {
            "text/plain": [
              "(0.05439292356615041, 0.23322290532053322)"
            ]
          },
          "metadata": {},
          "execution_count": 584
        }
      ]
    },
    {
      "cell_type": "code",
      "source": [
        "k = 3\n",
        "alpha = 0.1\n",
        "flow = []\n",
        "fhigh = []\n",
        "\n",
        "var_res_multi = 0\n",
        "for i in range(n):\n",
        "    var_res_multi += 1 / (n-k) * ((beta2 * x[i]**2 + beta1 * x[i] + beta0) - y[i])**2\n",
        "\n",
        "\n",
        "for i in range(n):\n",
        "    main = (beta2 * x[i]**2 + beta1 * x[i] + beta0)\n",
        "    additional = st.t(n-k).ppf(1 - alpha / 2)*(var_res_multi * (np.dot(np.dot(np.array([1, x[i], x[i]**2]).transpose(),\\\n",
        "                                                    np.linalg.inv(F)), np.array([1, x[i], x[i]**2])))  )**(1/2)\n",
        "    flow.append(main - additional)\n",
        "    fhigh.append(main + additional)\n",
        "\n",
        "df = pd.DataFrame({'X': x, 'Y': y, 'flow': flow, 'fhigh': fhigh})\n",
        "df = df.sort_values('X')\n",
        "\n",
        "x = df['X'].to_numpy()\n",
        "y = df['Y'].to_numpy()\n",
        "flow = df['flow'].to_numpy()\n",
        "fhigh = df['fhigh'].to_numpy()\n",
        "\n",
        "plt.scatter(x, y, color='blue')\n",
        "\n",
        "lin_reg = []\n",
        "for i in range(n):\n",
        "  lin_reg.append(beta2 * x[i]**2 + beta1*x[i] + beta0)\n",
        "\n",
        "\n",
        "plt.plot(x, lin_reg, color='green')\n",
        "plt.plot(x, fhigh, linestyle = '-',color='red', linewidth = 0.5)\n",
        "plt.plot(x, flow, linestyle = '-', color='red', linewidth = 0.5)"
      ],
      "metadata": {
        "colab": {
          "base_uri": "https://localhost:8080/",
          "height": 447
        },
        "id": "57ONtzSHLgtd",
        "outputId": "6bb7e136-4abd-45be-8309-254f139f681e"
      },
      "execution_count": 587,
      "outputs": [
        {
          "output_type": "execute_result",
          "data": {
            "text/plain": [
              "[<matplotlib.lines.Line2D at 0x79612d9dea70>]"
            ]
          },
          "metadata": {},
          "execution_count": 587
        },
        {
          "output_type": "display_data",
          "data": {
            "text/plain": [
              "<Figure size 640x480 with 1 Axes>"
            ],
            "image/png": "[encoded data removed]"
          },
          "metadata": {}
        }
      ]
    },
    {
      "cell_type": "code",
      "source": [
        "remainses = y - (beta2 * x**2 + beta1 * x + beta0)\n",
        "plt.scatter(x, remainses, color='green')"
      ],
      "metadata": {
        "colab": {
          "base_uri": "https://localhost:8080/",
          "height": 447
        },
        "id": "7sRfmBy-M4jE",
        "outputId": "3d4217c1-610c-44e8-a39b-2923302faab7"
      },
      "execution_count": 588,
      "outputs": [
        {
          "output_type": "execute_result",
          "data": {
            "text/plain": [
              "<matplotlib.collections.PathCollection at 0x79612da7c760>"
            ]
          },
          "metadata": {},
          "execution_count": 588
        },
        {
          "output_type": "display_data",
          "data": {
            "text/plain": [
              "<Figure size 640x480 with 1 Axes>"
            ],
            "image/png": "[encoded data removed]"
          },
          "metadata": {}
        }
      ]
    },
    {
      "cell_type": "code",
      "source": [
        "rsquared = 1 - var_resy / var_y\n",
        "z = rsquared / ((1 - rsquared) / (n - 2))\n",
        "\n",
        "z, 1 - st.f(1, n - 2).cdf(z)"
      ],
      "metadata": {
        "colab": {
          "base_uri": "https://localhost:8080/"
        },
        "id": "itcoGCwtNhq8",
        "outputId": "824d6463-648f-47fd-b7b6-2b1722b6b418"
      },
      "execution_count": 589,
      "outputs": [
        {
          "output_type": "execute_result",
          "data": {
            "text/plain": [
              "(17.706010889849026, 3.3715216787966185e-05)"
            ]
          },
          "metadata": {},
          "execution_count": 589
        }
      ]
    },
    {
      "cell_type": "markdown",
      "source": [
        "### 9.3 Множественная линейная регрессионная модель"
      ],
      "metadata": {
        "id": "WmL8OqMwOYa_"
      }
    },
    {
      "cell_type": "code",
      "source": [
        "x1, x2, y = df['C11'], df['C4'], df['C13']"
      ],
      "metadata": {
        "id": "ecrekre9N-7C"
      },
      "execution_count": 602,
      "outputs": []
    },
    {
      "cell_type": "code",
      "source": [
        "regression_matrix = np.array([np.full(len(x1), 1), x1, x2]).transpose()\n",
        "\n",
        "F = np.dot(regression_matrix.transpose(), regression_matrix)\n",
        "result = np.dot(np.linalg.inv(F), regression_matrix.transpose())\n",
        "result = np.dot(result, y)\n",
        "beta0, beta1, beta2 = result[0], result[1], result[2]\n",
        "beta0, beta1, beta2"
      ],
      "metadata": {
        "colab": {
          "base_uri": "https://localhost:8080/"
        },
        "id": "D7en-VXpOiK2",
        "outputId": "70258178-48de-4a04-da7f-f83ffefb1cef"
      },
      "execution_count": 603,
      "outputs": [
        {
          "output_type": "execute_result",
          "data": {
            "text/plain": [
              "(310.7223673918358, 0.02772223663804229, -6.93571593255883)"
            ]
          },
          "metadata": {},
          "execution_count": 603
        }
      ]
    },
    {
      "cell_type": "code",
      "source": [
        "var_yx = 0\n",
        "k = 3\n",
        "\n",
        "var_res = 0\n",
        "for i in range(n):\n",
        "    var_res += 1/n * (y[i] - (beta0 + beta1 * x1[i] + beta2 * x2[i]))**2\n",
        "\n",
        "var_yx = y.var() - var_res"
      ],
      "metadata": {
        "id": "ue691OkVO46Z"
      },
      "execution_count": 604,
      "outputs": []
    },
    {
      "cell_type": "code",
      "source": [
        "var_yx, var_res, y.var()"
      ],
      "metadata": {
        "colab": {
          "base_uri": "https://localhost:8080/"
        },
        "id": "effpAUAMPK5C",
        "outputId": "ddc1d50e-9a1b-4bf9-feba-4a7b37bfcfbc"
      },
      "execution_count": 605,
      "outputs": [
        {
          "output_type": "execute_result",
          "data": {
            "text/plain": [
              "(3527.00023818286, 29962.293806908638, 33489.2940450915)"
            ]
          },
          "metadata": {},
          "execution_count": 605
        }
      ]
    },
    {
      "cell_type": "code",
      "source": [
        "(n*var_yx)/(k-1), (n*var_resy)/(n-k), (n*var_y)/(n-1)"
      ],
      "metadata": {
        "colab": {
          "base_uri": "https://localhost:8080/"
        },
        "id": "pW9G6L7fPVg-",
        "outputId": "95fc6d76-4676-45a3-be90-e9dd4396a375"
      },
      "execution_count": 606,
      "outputs": [
        {
          "output_type": "execute_result",
          "data": {
            "text/plain": [
              "(555502.5375138004, 32001.048007006448, 33595.947847782874)"
            ]
          },
          "metadata": {},
          "execution_count": 606
        }
      ]
    },
    {
      "cell_type": "code",
      "source": [
        "var_yx / var_y, (var_yx/var_y)**(1/2)\n",
        "# коэффициент детерминации, корелляционное отношение"
      ],
      "metadata": {
        "colab": {
          "base_uri": "https://localhost:8080/"
        },
        "id": "EX9M483dPqyt",
        "outputId": "3d8cac92-3538-4360-c86e-e0a4fee9791a"
      },
      "execution_count": 607,
      "outputs": [
        {
          "output_type": "execute_result",
          "data": {
            "text/plain": [
              "(0.10531724656345241, 0.32452618779299214)"
            ]
          },
          "metadata": {},
          "execution_count": 607
        }
      ]
    },
    {
      "cell_type": "code",
      "source": [],
      "metadata": {
        "id": "5vgT5s60P5wI"
      },
      "execution_count": null,
      "outputs": []
    }
  ]
}