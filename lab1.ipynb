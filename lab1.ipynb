{
  "nbformat": 4,
  "nbformat_minor": 0,
  "metadata": {
    "colab": {
      "provenance": []
    },
    "kernelspec": {
      "name": "python3",
      "display_name": "Python 3"
    },
    "language_info": {
      "name": "python"
    }
  },
  "cells": [
    {
      "cell_type": "markdown",
      "source": [
        "# Вариант 7\n",
        "* X1 ~ N(-1, 2), n1 = 100\n",
        "* X2 ~ R(-2, 0), n2 = 100\n",
        "\n",
        "* σ1 = 2, (m1 – не изв.)"
      ],
      "metadata": {
        "id": "B2U3NyeXg0bP"
      }
    },
    {
      "cell_type": "code",
      "source": [
        "import numpy as np\n",
        "import pandas as pd\n",
        "import scipy.stats as st\n",
        "import seaborn as sns\n",
        "import matplotlib.pyplot as plt\n",
        "\n",
        "from statsmodels.stats.diagnostic import kstest_normal\n",
        "from statsmodels.stats.weightstats import ztest\n",
        "from statsmodels.stats.proportion import binom_test\n",
        "from statsmodels.stats.proportion import proportion_confint\n",
        "\n",
        "import math"
      ],
      "metadata": {
        "id": "tFXcveRthICO"
      },
      "execution_count": 3,
      "outputs": []
    },
    {
      "cell_type": "code",
      "source": [
        "from typing import Dict"
      ],
      "metadata": {
        "id": "Je6Fac8Unv7v"
      },
      "execution_count": 4,
      "outputs": []
    },
    {
      "cell_type": "markdown",
      "source": [
        "## Исходные данные"
      ],
      "metadata": {
        "id": "Fble712omQRh"
      }
    },
    {
      "cell_type": "code",
      "source": [
        "n1 = 100\n",
        "n2 = 100\n",
        "\n",
        "norm = st.distributions.norm(-1, 2).rvs(100, random_state=42)\n",
        "uniform = st.distributions.uniform(-2, 0).rvs(100, random_state=42)"
      ],
      "metadata": {
        "id": "OqGdw4K7hlqE"
      },
      "execution_count": 5,
      "outputs": []
    },
    {
      "cell_type": "code",
      "source": [
        "def describe_distribution(distribution, name) -> Dict[str, Dict[str, float]]:\n",
        "    description = st.describe(distribution)\n",
        "\n",
        "    return {\n",
        "            name: {\n",
        "                      'mean': description[2],\n",
        "                      'variance': description[3],\n",
        "                      'deviation': np.sqrt(description[3])\n",
        "                  }\n",
        "           }\n",
        "\n",
        "def calc_pooled_distribution(d1, name1, d2, name2) -> Dict[str, Dict[str, float]]:\n",
        "    description_d1 = describe_distribution(d1, name1)\n",
        "    description_d2 = describe_distribution(d2, name2)\n",
        "\n",
        "    return {\n",
        "            f'{name1}/{name2}': {\n",
        "                      'mean': (description_d1[name1]['mean'] * d1.shape[0] + description_d2[name2]['mean'] * d2.shape[0]) / (d1.shape[0] + d2.shape[0]),\n",
        "                      'variance': (description_d1[name1]['variance'] * (d1.shape[0] - 1) + description_d2[name2]['variance'] * (d2.shape[0] - 1)) / (d1.shape[0] + d2.shape[0] - 2),\n",
        "                      'deviation': np.sqrt((description_d1[name1]['variance'] * (d1.shape[0] - 1) + description_d2[name2]['variance'] * (d2.shape[0] - 1)) / (d1.shape[0] + d2.shape[0] - 2))\n",
        "              }\n",
        "           }"
      ],
      "metadata": {
        "id": "S3RqEUQZnraD"
      },
      "execution_count": 6,
      "outputs": []
    },
    {
      "cell_type": "code",
      "source": [
        "print(describe_distribution(norm, 'normal'))"
      ],
      "metadata": {
        "colab": {
          "base_uri": "https://localhost:8080/"
        },
        "id": "8jIfjjVSlWU4",
        "outputId": "fe185d58-1540-47a8-f540-6c9099fa2b2f"
      },
      "execution_count": 7,
      "outputs": [
        {
          "output_type": "stream",
          "name": "stdout",
          "text": [
            "{'normal': {'mean': -1.2076930347881878, 'variance': 3.2990795745206403, 'deviation': 1.8163368560156017}}\n"
          ]
        }
      ]
    },
    {
      "cell_type": "code",
      "source": [
        "describe_distribution(uniform, 'uniform')"
      ],
      "metadata": {
        "colab": {
          "base_uri": "https://localhost:8080/"
        },
        "id": "2Urt-gjjmyj4",
        "outputId": "0b190dda-3e2c-4d82-8ec0-37b66ad11917"
      },
      "execution_count": 8,
      "outputs": [
        {
          "output_type": "stream",
          "name": "stderr",
          "text": [
            "<ipython-input-6-ed3209fe0a5d>:2: RuntimeWarning: Precision loss occurred in moment calculation due to catastrophic cancellation. This occurs when the data are nearly identical. Results may be unreliable.\n",
            "  description = st.describe(distribution)\n",
            "/usr/local/lib/python3.10/dist-packages/scipy/stats/_stats_py.py:1405: RuntimeWarning: Precision loss occurred in moment calculation due to catastrophic cancellation. This occurs when the data are nearly identical. Results may be unreliable.\n",
            "  sk = skew(a, axis, bias=bias)\n",
            "/usr/local/lib/python3.10/dist-packages/scipy/stats/_stats_py.py:1406: RuntimeWarning: Precision loss occurred in moment calculation due to catastrophic cancellation. This occurs when the data are nearly identical. Results may be unreliable.\n",
            "  kurt = kurtosis(a, axis, bias=bias)\n"
          ]
        },
        {
          "output_type": "execute_result",
          "data": {
            "text/plain": [
              "{'uniform': {'mean': -2.0, 'variance': 0.0, 'deviation': 0.0}}"
            ]
          },
          "metadata": {},
          "execution_count": 8
        }
      ]
    },
    {
      "cell_type": "code",
      "source": [
        "# Pooled\n",
        "\n",
        "calc_pooled_distribution(norm, 'normal', uniform, 'uniform')"
      ],
      "metadata": {
        "colab": {
          "base_uri": "https://localhost:8080/"
        },
        "id": "hF76-MSBqPGA",
        "outputId": "477ccd0d-fc4e-41c0-8d46-79fb4cd51cdb"
      },
      "execution_count": 9,
      "outputs": [
        {
          "output_type": "stream",
          "name": "stderr",
          "text": [
            "<ipython-input-6-ed3209fe0a5d>:2: RuntimeWarning: Precision loss occurred in moment calculation due to catastrophic cancellation. This occurs when the data are nearly identical. Results may be unreliable.\n",
            "  description = st.describe(distribution)\n"
          ]
        },
        {
          "output_type": "execute_result",
          "data": {
            "text/plain": [
              "{'normal/uniform': {'mean': -1.6038465173940937,\n",
              "  'variance': 1.64953978726032,\n",
              "  'deviation': 1.2843441078076856}}"
            ]
          },
          "metadata": {},
          "execution_count": 9
        }
      ]
    },
    {
      "cell_type": "markdown",
      "source": [
        "## Однопараметрические критерии"
      ],
      "metadata": {
        "id": "TscBnKmp-loD"
      }
    },
    {
      "cell_type": "code",
      "source": [
        "(plt.hist(norm, bins=20), norm.shape[0]);\n",
        "print(norm.shape[0])"
      ],
      "metadata": {
        "colab": {
          "base_uri": "https://localhost:8080/",
          "height": 447
        },
        "id": "Cp5G0_rr-pc4",
        "outputId": "ede39225-c492-45f4-e5f2-6fce6c21d5d2"
      },
      "execution_count": 10,
      "outputs": [
        {
          "output_type": "stream",
          "name": "stdout",
          "text": [
            "100\n"
          ]
        },
        {
          "output_type": "display_data",
          "data": {
            "text/plain": [
              "<Figure size 640x480 with 1 Axes>"
            ],
            "image/png": "[encoded data removed]"
          },
          "metadata": {}
        }
      ]
    },
    {
      "cell_type": "code",
      "source": [
        "hypothesis = {\"z_test\" : -1.4, \"t_test\": -1, \"chi_estim\": 3.2, \"chi_notestim\": 3.2}\n",
        "\n",
        "def chi_squared_variance(distribution: np.array, s0, ddof=0):\n",
        "    z = ((distribution.shape[0] - ddof) * distribution.var(ddof=1)) / s0\n",
        "    f = st.chi2.cdf(z, distribution.shape[0] - ddof)\n",
        "    return {\"statistic\" : z, \"pvalue\" : min(f, 1-f) / 2}\n",
        "\n",
        "def single_parameters_test(distribution, hyp):\n",
        "      ztest_tuple = ztest(distribution, value=hyp[\"z_test\"])\n",
        "      ttest_tuple = st.ttest_1samp(distribution, hyp[\"t_test\"])\n",
        "      return {\n",
        "                \"z_test\": {'statistic': ztest_tuple[0], 'pvalue': min(ztest_tuple[1], 1-ztest_tuple[1]) / 2},\n",
        "                \"t_test\": {'statistic': ttest_tuple[0], 'pvalue': min(ttest_tuple[1], 1-ttest_tuple[1]) / 2},\n",
        "                \"chi_unknow_mean\": chi_squared_variance(norm, hypothesis['chi_notestim']),\n",
        "                \"chi_known_mean\": chi_squared_variance(norm, hypothesis['chi_estim'], ddof=1)\n",
        "             }"
      ],
      "metadata": {
        "id": "F9C6V4ET_2vv"
      },
      "execution_count": 65,
      "outputs": []
    },
    {
      "cell_type": "code",
      "source": [
        "single_parameters_test(norm, hypothesis)"
      ],
      "metadata": {
        "colab": {
          "base_uri": "https://localhost:8080/"
        },
        "id": "g2RwcfC-DRqS",
        "outputId": "6fdb5142-c93f-46be-9cbe-f9d6e41008f8"
      },
      "execution_count": 63,
      "outputs": [
        {
          "output_type": "execute_result",
          "data": {
            "text/plain": [
              "{'z_test': {'statistic': 1.0587626660489913, 'pvalue': 0.14485394014692304},\n",
              " 't_test': {'statistic': -1.143472005758847, 'pvalue': 0.12780008812651783},\n",
              " 'chi_unknow_mean': {'statistic': 103.09623670377,\n",
              "  'pvalue': 0.19799120132711584},\n",
              " 'chi_known_mean': {'statistic': 102.0652743367323,\n",
              "  'pvalue': 0.1981547980474314}}"
            ]
          },
          "metadata": {},
          "execution_count": 63
        }
      ]
    },
    {
      "cell_type": "markdown",
      "source": [
        "## Двухвыборочные критерии"
      ],
      "metadata": {
        "id": "rjxU_vmmc5oo"
      }
    },
    {
      "cell_type": "code",
      "source": [
        "st.ttest_ind(norm, uniform)"
      ],
      "metadata": {
        "colab": {
          "base_uri": "https://localhost:8080/"
        },
        "id": "198BLWuYc9Vr",
        "outputId": "d1a32ab9-0d65-4bbb-e988-5a939adc7e33"
      },
      "execution_count": 13,
      "outputs": [
        {
          "output_type": "stream",
          "name": "stderr",
          "text": [
            "/usr/local/lib/python3.10/dist-packages/scipy/stats/_axis_nan_policy.py:523: RuntimeWarning: Precision loss occurred in moment calculation due to catastrophic cancellation. This occurs when the data are nearly identical. Results may be unreliable.\n",
            "  res = hypotest_fun_out(*samples, **kwds)\n"
          ]
        },
        {
          "output_type": "execute_result",
          "data": {
            "text/plain": [
              "TtestResult(statistic=4.36211467376075, pvalue=2.070935766726985e-05, df=198.0)"
            ]
          },
          "metadata": {},
          "execution_count": 13
        }
      ]
    },
    {
      "cell_type": "code",
      "source": [
        "def ftest(dst1, dst2, ddof=0):\n",
        "    f = st.f(dst1.shape[0] - ddof, dst2.shape[0] - ddof).cdf\n",
        "    return {'statistic' : (z := dst1.var() / dst2.var()), 'pvalue': min(1 - f(z), f(z)) / 2}"
      ],
      "metadata": {
        "id": "hzRutQ_Vfqfc"
      },
      "execution_count": 14,
      "outputs": []
    },
    {
      "cell_type": "code",
      "source": [
        "ftest(uniform, norm, 1)"
      ],
      "metadata": {
        "colab": {
          "base_uri": "https://localhost:8080/"
        },
        "id": "XoUcebUhi14a",
        "outputId": "26ec268f-e447-4880-8253-5831d15bf302"
      },
      "execution_count": 15,
      "outputs": [
        {
          "output_type": "execute_result",
          "data": {
            "text/plain": [
              "{'statistic': 0.0, 'pvalue': 0.0}"
            ]
          },
          "metadata": {},
          "execution_count": 15
        }
      ]
    },
    {
      "cell_type": "code",
      "source": [
        "ftest(uniform, norm)"
      ],
      "metadata": {
        "colab": {
          "base_uri": "https://localhost:8080/"
        },
        "id": "nEfgA8GIi67S",
        "outputId": "6fab7b36-e89d-401d-c7fa-ef2bd117352b"
      },
      "execution_count": 16,
      "outputs": [
        {
          "output_type": "execute_result",
          "data": {
            "text/plain": [
              "{'statistic': 0.0, 'pvalue': 0.0}"
            ]
          },
          "metadata": {},
          "execution_count": 16
        }
      ]
    },
    {
      "cell_type": "markdown",
      "source": [
        "### Исследование распределений статистик критерия"
      ],
      "metadata": {
        "id": "wprL5gGRkIc4"
      }
    },
    {
      "cell_type": "markdown",
      "source": [
        "$$s_{1} = 2$$\n",
        "\n",
        "$$m_{1} - неизв$$"
      ],
      "metadata": {
        "id": "Ns5vQyLiCx1A"
      }
    },
    {
      "cell_type": "code",
      "source": [
        "N = 1000\n",
        "d_h = 4\n",
        "\n",
        "z_values, p_values = [], []\n",
        "\n",
        "for i in range(N):\n",
        "    distribution = st.distributions.norm(-1, 2).rvs(100)\n",
        "    z, _ = chi_squared_variance(distribution, d_h).values()\n",
        "    p = st.chi2.cdf(z, distribution.shape[0] - 1) * 2\n",
        "    z_values.append(z)\n",
        "    p_values.append(p)"
      ],
      "metadata": {
        "id": "As2qZxPKCu-s"
      },
      "execution_count": 67,
      "outputs": []
    },
    {
      "cell_type": "code",
      "source": [
        "describe_distribution(z_values, 'z'), describe_distribution(p_values, 'p')"
      ],
      "metadata": {
        "colab": {
          "base_uri": "https://localhost:8080/"
        },
        "id": "r5eiD2AoN6l-",
        "outputId": "12bc126d-fd15-46fc-dd25-c7951ccf566b"
      },
      "execution_count": 68,
      "outputs": [
        {
          "output_type": "execute_result",
          "data": {
            "text/plain": [
              "({'z': {'mean': 99.83799558694653,\n",
              "   'variance': 191.36334546059516,\n",
              "   'deviation': 13.8334140927175}},\n",
              " {'p': {'mean': 0.5188881172743218,\n",
              "   'variance': 0.082057911557731,\n",
              "   'deviation': 0.2864575213844646}})"
            ]
          },
          "metadata": {},
          "execution_count": 68
        }
      ]
    },
    {
      "cell_type": "code",
      "source": [
        "fig, ax = plt.subplots(1, 1)\n",
        "df = 100\n",
        "x = np.linspace(st.chi2.ppf(0.01, df),\n",
        "                st.chi2.ppf(0.99, df), 100)\n",
        "\n",
        "rv = st.chi2(df)\n",
        "ax.plot(x, rv.pdf(x), 'k-', lw=2, label='frozen pdf')\n",
        "ax.hist(z_values, density=True, bins='auto', histtype='stepfilled', alpha=0.2)\n",
        "ax.set_xlim([x[0], x[-1]])\n",
        "ax.legend(loc='best', frameon=False)\n",
        "plt.show()"
      ],
      "metadata": {
        "colab": {
          "base_uri": "https://localhost:8080/",
          "height": 430
        },
        "id": "tS_lUuKpJs93",
        "outputId": "884a57df-69f1-4dbc-8726-248956e63917"
      },
      "execution_count": 69,
      "outputs": [
        {
          "output_type": "display_data",
          "data": {
            "text/plain": [
              "<Figure size 640x480 with 1 Axes>"
            ],
            "image/png": "[encoded data removed]"
          },
          "metadata": {}
        }
      ]
    },
    {
      "cell_type": "code",
      "source": [
        "fig, ax = plt.subplots(1, 1)\n",
        "df = 100\n",
        "x = np.linspace(-0.5, 1.5, 100)\n",
        "\n",
        "rv = st.uniform(loc=0, scale=1)\n",
        "ax.plot(x, rv.pdf(x), 'k-', lw=2, label='frozen pdf')\n",
        "ax.hist(p_values, density=True, bins='auto', histtype='stepfilled', alpha=0.2)"
      ],
      "metadata": {
        "colab": {
          "base_uri": "https://localhost:8080/",
          "height": 550
        },
        "id": "eDouJ16vKCIJ",
        "outputId": "7816bc93-520d-44af-93c8-47a7e71d322b"
      },
      "execution_count": 73,
      "outputs": [
        {
          "output_type": "execute_result",
          "data": {
            "text/plain": [
              "(array([1.00261466, 0.89243722, 0.90345497, 0.89243722, 0.85938399,\n",
              "        1.07973886, 1.02465015, 1.15686307, 1.14584532, 1.0136324 ,\n",
              "        1.04668563]),\n",
              " array([0.00114627, 0.09190896, 0.18267165, 0.27343433, 0.36419702,\n",
              "        0.45495971, 0.54572239, 0.63648508, 0.72724777, 0.81801045,\n",
              "        0.90877314, 0.99953583]),\n",
              " [<matplotlib.patches.Polygon at 0x7b6380897dc0>])"
            ]
          },
          "metadata": {},
          "execution_count": 73
        },
        {
          "output_type": "display_data",
          "data": {
            "text/plain": [
              "<Figure size 640x480 with 1 Axes>"
            ],
            "image/png": "[encoded data removed]"
          },
          "metadata": {}
        }
      ]
    }
  ]
}