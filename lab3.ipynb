{
  "nbformat": 4,
  "nbformat_minor": 0,
  "metadata": {
    "colab": {
      "provenance": []
    },
    "kernelspec": {
      "name": "python3",
      "display_name": "Python 3"
    },
    "language_info": {
      "name": "python"
    }
  },
  "cells": [
    {
      "cell_type": "markdown",
      "source": [
        "# Вариант 7\n",
        "* X1 ~ N(-1, 2), n1 = 100\n",
        "* X2 ~ R(-2, 0), n2 = 100"
      ],
      "metadata": {
        "id": "ohxm0AaHMtLq"
      }
    },
    {
      "cell_type": "code",
      "source": [
        "import numpy as np\n",
        "import seaborn as sns\n",
        "import matplotlib as plt\n",
        "\n",
        "from scipy import stats as st\n",
        "from statsmodels.stats.descriptivestats import sign_test\n",
        "from statsmodels.stats.multicomp import pairwise_tukeyhsd\n",
        "import matplotlib.pyplot as plt\n",
        "\n",
        "from typing import Dict, Tuple, List"
      ],
      "metadata": {
        "id": "Wgd-_1Z3Mskz"
      },
      "execution_count": 110,
      "outputs": []
    },
    {
      "cell_type": "markdown",
      "source": [
        "## 1. Исходные данные"
      ],
      "metadata": {
        "id": "Kt70q0fwNoAd"
      }
    },
    {
      "cell_type": "code",
      "source": [
        "def describe_distribution(distribution, name) -> Dict[str, Dict[str, float]]:\n",
        "    description = st.describe(distribution)\n",
        "\n",
        "    return {\n",
        "            name: {\n",
        "                      'mean': description[2],\n",
        "                      'variance': description[3],\n",
        "                      'deviation': np.sqrt(description[3])\n",
        "                  }\n",
        "           }"
      ],
      "metadata": {
        "id": "J370Epe_NL8o"
      },
      "execution_count": 3,
      "outputs": []
    },
    {
      "cell_type": "code",
      "source": [
        "n1 = 100\n",
        "x1 = st.distributions.norm(-1, 2).rvs(n1, random_state=42)\n",
        "\n",
        "n2 = 100\n",
        "x2 = st.distributions.uniform.rvs(loc=-2, scale=2, size=n2, random_state=42)\n",
        "\n",
        "n3 = 200\n",
        "x3 = st.distributions.norm(2, 1).rvs(n3, random_state=42)"
      ],
      "metadata": {
        "id": "9SRHGorBNq6e"
      },
      "execution_count": 5,
      "outputs": []
    },
    {
      "cell_type": "code",
      "source": [
        "describe_distribution(x1, 'X1 ~ N(-1, 2)'), describe_distribution(x2, 'X2 ~ R(-2, 0)'), describe_distribution(x3, 'X3 ~ N(2, 1)')"
      ],
      "metadata": {
        "colab": {
          "base_uri": "https://localhost:8080/"
        },
        "id": "ulbAO11LN9tQ",
        "outputId": "398e210e-2cd5-47fd-cf39-7a2c9e45d9b4"
      },
      "execution_count": 7,
      "outputs": [
        {
          "output_type": "execute_result",
          "data": {
            "text/plain": [
              "({'X1 ~ N(-1, 2)': {'mean': -1.2076930347881878,\n",
              "   'variance': 3.2990795745206403,\n",
              "   'deviation': 1.8163368560156017}},\n",
              " {'X2 ~ R(-2, 0)': {'mean': -1.0596385132435813,\n",
              "   'variance': 0.3539997986649662,\n",
              "   'deviation': 0.5949788220306386}},\n",
              " {'X3 ~ N(2, 1)': {'mean': 1.9592290348279149,\n",
              "   'variance': 0.8667682901307653,\n",
              "   'deviation': 0.9310039152070013}})"
            ]
          },
          "metadata": {},
          "execution_count": 7
        }
      ]
    },
    {
      "cell_type": "code",
      "source": [
        "list(describe_distribution(x1, '1').values())[0]['mean']"
      ],
      "metadata": {
        "colab": {
          "base_uri": "https://localhost:8080/"
        },
        "id": "X_GvJcAUSzyV",
        "outputId": "c9d72fe8-ea01-4941-c10b-2650aad0ee5d"
      },
      "execution_count": 31,
      "outputs": [
        {
          "output_type": "execute_result",
          "data": {
            "text/plain": [
              "-1.2076930347881878"
            ]
          },
          "metadata": {},
          "execution_count": 31
        }
      ]
    },
    {
      "cell_type": "code",
      "source": [
        "def pool_distributions(distributions: List[np.array], volumes: List[int]) -> Dict:\n",
        "    descriptions = [describe_distribution(distribution, str(i)) for i, distribution in enumerate(distributions)]\n",
        "    total_volume = sum(volumes)\n",
        "\n",
        "    mean = sum([(volume * list(description.values())[0]['mean']) / total_volume\n",
        "                for description, volume in zip(descriptions, volumes)])\n",
        "    variance = sum([((volume - 1) * list(description.values())[0]['variance']) / (total_volume - 3)\n",
        "                for description, volume in zip(descriptions, volumes)])\n",
        "    std = np.sqrt(variance)\n",
        "\n",
        "    return {\n",
        "            'Pooled': {\n",
        "                          'mean': mean,\n",
        "                          'variance': variance,\n",
        "                          'std': std\n",
        "                      }\n",
        "           }"
      ],
      "metadata": {
        "id": "nJKIx2UYO53P"
      },
      "execution_count": 35,
      "outputs": []
    },
    {
      "cell_type": "code",
      "source": [
        "distributions, volumes = [x1, x2, x3], [n1, n2, n3]\n",
        "\n",
        "pool_distributions(distributions, volumes)"
      ],
      "metadata": {
        "colab": {
          "base_uri": "https://localhost:8080/"
        },
        "id": "G5T3RZ-1Rskj",
        "outputId": "ac8d4264-63e9-47ce-9bf7-8f85b02577c2"
      },
      "execution_count": 37,
      "outputs": [
        {
          "output_type": "execute_result",
          "data": {
            "text/plain": [
              "{'Pooled': {'mean': 0.41278163040601523,\n",
              "  'variance': 1.3454452082654844,\n",
              "  'std': 1.159933277505859}}"
            ]
          },
          "metadata": {},
          "execution_count": 37
        }
      ]
    },
    {
      "cell_type": "markdown",
      "source": [
        "## 2. Boxplots"
      ],
      "metadata": {
        "id": "4Vsjvv_AZi8E"
      }
    },
    {
      "cell_type": "code",
      "source": [
        "fig = plt.figure(figsize =(10, 7))\n",
        "ax = fig.add_subplot(111)\n",
        "\n",
        "bp = plt.boxplot(distributions, patch_artist = True, notch ='True')\n",
        "\n",
        "colors = ['#0000FF', '#00FF00', '#FFFF00']\n",
        "for patch, color in zip(bp['boxes'], colors):\n",
        "    patch.set_facecolor(color)\n",
        "\n",
        "ax.set_xticklabels(['X1 ~ N(-1, 2)', 'X2 ~ R(-2, 0)', 'X3 ~ N(2, 1)',])\n",
        "\n",
        "# Adding title\n",
        "plt.title(\"Box-and-Whisker\")\n",
        "\n",
        "\n",
        "plt.show()"
      ],
      "metadata": {
        "colab": {
          "base_uri": "https://localhost:8080/",
          "height": 622
        },
        "id": "T20EPGYBR0LB",
        "outputId": "6216732c-78e8-4b4e-e407-f581125ab3e7"
      },
      "execution_count": 47,
      "outputs": [
        {
          "output_type": "display_data",
          "data": {
            "text/plain": [
              "<Figure size 1000x700 with 1 Axes>"
            ],
            "image/png": "[encoded data removed]"
          },
          "metadata": {}
        }
      ]
    },
    {
      "cell_type": "markdown",
      "source": [
        "## 3. Проверка условий дисперсионного анализа"
      ],
      "metadata": {
        "id": "DaU0RWKIWEiV"
      }
    },
    {
      "cell_type": "code",
      "source": [
        "st.bartlett(x1, x2, x3)"
      ],
      "metadata": {
        "colab": {
          "base_uri": "https://localhost:8080/"
        },
        "id": "uA-jYlrEWHNY",
        "outputId": "f1f720b3-5ec8-47fe-cb38-7e845cc9c042"
      },
      "execution_count": 48,
      "outputs": [
        {
          "output_type": "execute_result",
          "data": {
            "text/plain": [
              "BartlettResult(statistic=130.39676026168988, pvalue=4.838416830013518e-29)"
            ]
          },
          "metadata": {},
          "execution_count": 48
        }
      ]
    },
    {
      "cell_type": "markdown",
      "source": [
        "## 4. Однофакторный дисперсионный анализ"
      ],
      "metadata": {
        "id": "p41PfPaTZnHJ"
      }
    },
    {
      "cell_type": "code",
      "source": [
        "K = 3\n",
        "concated = np.concatenate(distributions)\n",
        "total_mean = np.mean(concated)\n",
        "total_variance = np.concatenate(distributions).var()\n",
        "\n",
        "intragroup = np.sum([len(distribution) * distribution.var() for distribution in distributions]) / concated.shape[0]\n",
        "intergroup = np.sum([len(distribution) * (distribution.mean() - total_mean) ** 2 for distribution in distributions]) / concated.shape[0]\n",
        "\n",
        "intragroup_variation_coef = intragroup / (np.sum([len(distribution) * distribution.mean() for distribution in distributions]) / concated.shape[0])\n",
        "interagroup_variation_coef = intergroup / (np.sum([len(distribution) * distribution.mean() for distribution in distributions]) / concated.shape[0])"
      ],
      "metadata": {
        "id": "GGELkEi2Z-_F"
      },
      "execution_count": 101,
      "outputs": []
    },
    {
      "cell_type": "markdown",
      "source": [
        "### Таблица дисперсионного анализа"
      ],
      "metadata": {
        "id": "_hYvJjcugKGH"
      }
    },
    {
      "cell_type": "code",
      "source": [
        "intergroup + intragroup, np.concatenate(distributions).var()"
      ],
      "metadata": {
        "colab": {
          "base_uri": "https://localhost:8080/"
        },
        "id": "Qv-VWFLHbFIJ",
        "outputId": "11655ced-f7c7-471b-9f92-1271397a221e"
      },
      "execution_count": 102,
      "outputs": [
        {
          "output_type": "execute_result",
          "data": {
            "text/plain": [
              "(3.7295939615154494, 3.72959396151545)"
            ]
          },
          "metadata": {},
          "execution_count": 102
        }
      ]
    },
    {
      "cell_type": "code",
      "source": [
        "intragroup_variation_coef, interagroup_variation_coef"
      ],
      "metadata": {
        "colab": {
          "base_uri": "https://localhost:8080/"
        },
        "id": "5odgIJFicR9h",
        "outputId": "9471acd3-ac04-4655-a05e-8bf66c0a5086"
      },
      "execution_count": 103,
      "outputs": [
        {
          "output_type": "execute_result",
          "data": {
            "text/plain": [
              "(3.2350140385123933, 5.800257123741102)"
            ]
          },
          "metadata": {},
          "execution_count": 103
        }
      ]
    },
    {
      "cell_type": "code",
      "source": [
        "intragroup, intergroup"
      ],
      "metadata": {
        "colab": {
          "base_uri": "https://localhost:8080/"
        },
        "id": "QJ_Bvcn5dPuo",
        "outputId": "c8aff04a-45f7-4e22-a756-7e5012dbf5de"
      },
      "execution_count": 104,
      "outputs": [
        {
          "output_type": "execute_result",
          "data": {
            "text/plain": [
              "(1.3353543692034933, 2.394239592311956)"
            ]
          },
          "metadata": {},
          "execution_count": 104
        }
      ]
    },
    {
      "cell_type": "code",
      "source": [
        "concated.var() / concated.mean()"
      ],
      "metadata": {
        "colab": {
          "base_uri": "https://localhost:8080/"
        },
        "id": "F0qF_aAzfbZt",
        "outputId": "06144c25-d269-427b-a092-9f691ebd3a8d"
      },
      "execution_count": 105,
      "outputs": [
        {
          "output_type": "execute_result",
          "data": {
            "text/plain": [
              "9.035271162253494"
            ]
          },
          "metadata": {},
          "execution_count": 105
        }
      ]
    },
    {
      "cell_type": "markdown",
      "source": [
        "### Критерий"
      ],
      "metadata": {
        "id": "qur7z_v3gN6z"
      }
    },
    {
      "cell_type": "code",
      "source": [
        "st.f_oneway(x1, x2, x3)"
      ],
      "metadata": {
        "colab": {
          "base_uri": "https://localhost:8080/"
        },
        "id": "4byaRKy5f-Xf",
        "outputId": "61130efd-5386-45e0-bfa7-e9d3fec1e021"
      },
      "execution_count": 106,
      "outputs": [
        {
          "output_type": "execute_result",
          "data": {
            "text/plain": [
              "F_onewayResult(statistic=355.90294983450895, pvalue=2.8582043514361526e-89)"
            ]
          },
          "metadata": {},
          "execution_count": 106
        }
      ]
    },
    {
      "cell_type": "code",
      "source": [
        "f'Эмперический коэффициент детерминации: {np.round(intergroup / (intergroup + intragroup), 2)}'"
      ],
      "metadata": {
        "colab": {
          "base_uri": "https://localhost:8080/",
          "height": 35
        },
        "id": "qvDDf0ozgG54",
        "outputId": "d7102e63-dded-467d-92bb-5c14baa52424"
      },
      "execution_count": 107,
      "outputs": [
        {
          "output_type": "execute_result",
          "data": {
            "text/plain": [
              "'Эмперический коэффициент детерминации: 0.64'"
            ],
            "application/vnd.google.colaboratory.intrinsic+json": {
              "type": "string"
            }
          },
          "metadata": {},
          "execution_count": 107
        }
      ]
    },
    {
      "cell_type": "code",
      "source": [
        "f'Эмперическое корелляционное отношение: {np.round(np.sqrt(intergroup / (intergroup + intragroup)), 2)}'"
      ],
      "metadata": {
        "colab": {
          "base_uri": "https://localhost:8080/",
          "height": 35
        },
        "id": "CNMKtY8kg2cn",
        "outputId": "bd608988-a92a-4c41-ab4f-7c7e7214278e"
      },
      "execution_count": 108,
      "outputs": [
        {
          "output_type": "execute_result",
          "data": {
            "text/plain": [
              "'Эмперическое корелляционное отношение: 0.8'"
            ],
            "application/vnd.google.colaboratory.intrinsic+json": {
              "type": "string"
            }
          },
          "metadata": {},
          "execution_count": 108
        }
      ]
    },
    {
      "cell_type": "markdown",
      "source": [
        "## 5. Метод линейных контрастов"
      ],
      "metadata": {
        "id": "gkfaKO9tif6L"
      }
    },
    {
      "cell_type": "code",
      "source": [
        "groups = np.concatenate((np.repeat(['x1', 'x2'], repeats=n1) ,np.repeat(['x3'], repeats=n3)))"
      ],
      "metadata": {
        "id": "7axPl4RDi2UJ"
      },
      "execution_count": 124,
      "outputs": []
    },
    {
      "cell_type": "code",
      "source": [
        "print(pairwise_tukeyhsd(endog=concated, groups=groups, alpha=0.05))"
      ],
      "metadata": {
        "colab": {
          "base_uri": "https://localhost:8080/"
        },
        "id": "mBI1sF41kgQa",
        "outputId": "ab82690e-5200-4588-a6b9-74afd0c02567"
      },
      "execution_count": 127,
      "outputs": [
        {
          "output_type": "stream",
          "name": "stdout",
          "text": [
            "Multiple Comparison of Means - Tukey HSD, FWER=0.05\n",
            "==================================================\n",
            "group1 group2 meandiff p-adj  lower  upper  reject\n",
            "--------------------------------------------------\n",
            "    x1     x2   0.1481 0.639 -0.2379  0.534  False\n",
            "    x1     x3   3.1669   0.0  2.8327 3.5011   True\n",
            "    x2     x3   3.0189   0.0  2.6847 3.3531   True\n",
            "--------------------------------------------------\n"
          ]
        }
      ]
    },
    {
      "cell_type": "code",
      "source": [
        "def linear_contrast_variance(volume, intergroup_var, K, x1, x2) -> float:\n",
        "    return volume * intergroup_var * (1 / x1.shape[0] + 1 / x2.shape[0]) / (volume - K)\n",
        "\n",
        "def lower_upper_bounds(diff, lkv, K, volume, alpha=0.05) -> Tuple[float, float]:\n",
        "    quantile = st.f(K-1,volume-K).ppf(1 - alpha)\n",
        "    delta = np.sqrt(lkv * (K - 1) * quantile)\n",
        "\n",
        "    return (diff - delta, diff + delta)\n",
        "\n",
        "\n",
        "diff12 = x1.mean() - x2.mean()\n",
        "diff13 = x1.mean() - x3.mean()\n",
        "diff23 = x2.mean() - x3.mean()\n",
        "\n",
        "var12 = linear_contrast_variance(concated.shape[0], intergroup, K, x1, x2)\n",
        "var13 = linear_contrast_variance(concated.shape[0], intergroup, K, x1, x3)\n",
        "var23 = linear_contrast_variance(concated.shape[0], intergroup, K, x2, x3)"
      ],
      "metadata": {
        "id": "ojT1zQDvlan3"
      },
      "execution_count": 134,
      "outputs": []
    },
    {
      "cell_type": "code",
      "source": [
        "interval_mapper = {0: '1-2', 1: '1-3', 2: '2-3'}\n",
        "diffs = [diff12, diff13, diff23]\n",
        "vars = [var12, var13, var23]\n",
        "pair_bounds = [lower_upper_bounds(diff, lkv, K, concated.shape[0]) for diff, lkv in zip(diffs, vars)]\n",
        "\n",
        "for i, bounds in enumerate(pair_bounds):\n",
        "    plt.plot(bounds, (i, i), 'ro-', color='b')\n",
        "\n",
        "print(plt.yticks(range(len(pair_bounds)), list(interval_mapper.values())))"
      ],
      "metadata": {
        "colab": {
          "base_uri": "https://localhost:8080/",
          "height": 501
        },
        "id": "ztTiXvNbpTee",
        "outputId": "fe8f0f5b-bb8c-459d-e55f-bf4177f523b0"
      },
      "execution_count": 146,
      "outputs": [
        {
          "output_type": "stream",
          "name": "stderr",
          "text": [
            "<ipython-input-146-a939ad68179e>:7: UserWarning: color is redundantly defined by the 'color' keyword argument and the fmt string \"ro-\" (-> color='r'). The keyword argument will take precedence.\n",
            "  plt.plot(bounds, (i, i), 'ro-', color='b')\n"
          ]
        },
        {
          "output_type": "stream",
          "name": "stdout",
          "text": [
            "([<matplotlib.axis.YTick object at 0x792da78f8dc0>, <matplotlib.axis.YTick object at 0x792da78f8760>, <matplotlib.axis.YTick object at 0x792da7964340>], [Text(0, 0, '1-2'), Text(0, 1, '1-3'), Text(0, 2, '2-3')])\n"
          ]
        },
        {
          "output_type": "display_data",
          "data": {
            "text/plain": [
              "<Figure size 640x480 with 1 Axes>"
            ],
            "image/png": "[encoded data removed]"
          },
          "metadata": {}
        }
      ]
    },
    {
      "cell_type": "code",
      "source": [],
      "metadata": {
        "id": "W0NqLGylrXIy"
      },
      "execution_count": null,
      "outputs": []
    }
  ]
}